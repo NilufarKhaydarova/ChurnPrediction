{
  "nbformat": 4,
  "nbformat_minor": 0,
  "metadata": {
    "colab": {
      "name": "DE_Churn_Analysis.ipynb",
      "provenance": [],
      "collapsed_sections": [],
      "mount_file_id": "10BC7ZgS17QzkeTovRk_3rHvzHRapy_vJ",
      "authorship_tag": "ABX9TyO6bAah0g4ynZxmlvhkV+CE",
      "include_colab_link": true
    },
    "kernelspec": {
      "name": "python3",
      "display_name": "Python 3"
    },
    "language_info": {
      "name": "python"
    },
    "widgets": {
      "application/vnd.jupyter.widget-state+json": {
        "1b30b6191f35457a888ca3d7ac860887": {
          "model_module": "@jupyter-widgets/controls",
          "model_name": "ImageModel",
          "model_module_version": "1.5.0",
          "state": {
            "_view_name": "ImageView",
            "_dom_classes": [],
            "_model_name": "ImageModel",
            "format": "png",
            "_view_module": "@jupyter-widgets/controls",
            "_model_module_version": "1.5.0",
            "_view_count": null,
            "width": "",
            "_view_module_version": "1.5.0",
            "layout": "IPY_MODEL_06455d55eea0458f8bbc4747441f6c4f",
            "height": "",
            "_model_module": "@jupyter-widgets/controls"
          }
        },
        "06455d55eea0458f8bbc4747441f6c4f": {
          "model_module": "@jupyter-widgets/base",
          "model_name": "LayoutModel",
          "model_module_version": "1.2.0",
          "state": {
            "_view_name": "LayoutView",
            "grid_template_rows": null,
            "right": null,
            "justify_content": null,
            "_view_module": "@jupyter-widgets/base",
            "overflow": null,
            "_model_module_version": "1.2.0",
            "_view_count": null,
            "flex_flow": null,
            "width": null,
            "min_width": null,
            "border": null,
            "align_items": null,
            "bottom": null,
            "_model_module": "@jupyter-widgets/base",
            "top": null,
            "grid_column": null,
            "overflow_y": null,
            "overflow_x": null,
            "grid_auto_flow": null,
            "grid_area": null,
            "grid_template_columns": null,
            "flex": null,
            "_model_name": "LayoutModel",
            "justify_items": null,
            "grid_row": null,
            "max_height": null,
            "align_content": null,
            "visibility": null,
            "align_self": null,
            "height": null,
            "min_height": null,
            "padding": null,
            "grid_auto_rows": null,
            "grid_gap": null,
            "max_width": null,
            "order": null,
            "_view_module_version": "1.2.0",
            "grid_template_areas": null,
            "object_position": null,
            "object_fit": null,
            "grid_auto_columns": null,
            "margin": null,
            "display": null,
            "left": null
          }
        }
      }
    }
  },
  "cells": [
    {
      "cell_type": "markdown",
      "metadata": {
        "id": "view-in-github",
        "colab_type": "text"
      },
      "source": [
        "<a href=\"https://colab.research.google.com/github/NilufarKhaydarova/ChurnPrediction/blob/main/Churn_Analysis.ipynb\" target=\"_parent\"><img src=\"https://colab.research.google.com/assets/colab-badge.svg\" alt=\"Open In Colab\"/></a>"
      ]
    },
    {
      "cell_type": "code",
      "source": [
        "import pandas as pd\n",
        "import matplotlib.pyplot as plt\n",
        "import numpy as np\n",
        "\n",
        "import seaborn as sns\n",
        "import tensorflow as tf\n",
        "from sklearn.preprocessing import StandardScaler\n",
        "from sklearn.ensemble import RandomForestClassifier\n",
        "from sklearn.neighbors import KNeighborsClassifier\n",
        "from sklearn.linear_model import LogisticRegression\n",
        "\n",
        "from sklearn import preprocessing\n",
        "from sklearn.model_selection import train_test_split, StratifiedKFold, GridSearchCV\n",
        "from sklearn.tree import DecisionTreeClassifier, export_graphviz\n",
        "from sklearn.metrics import confusion_matrix,accuracy_score,classification_report\n",
        "from sklearn.metrics import roc_auc_score,roc_curve\n",
        "from sklearn.metrics import f1_score\n",
        "import statsmodels.api as sm\n",
        "from sklearn.metrics import precision_score,recall_score, precision_recall_curve\n",
        "from sklearn import metrics\n",
        "import seaborn as sns\n",
        "%matplotlib inline"
      ],
      "metadata": {
        "id": "T-94P8GHSqxX"
      },
      "execution_count": null,
      "outputs": []
    },
    {
      "cell_type": "code",
      "source": [
        "df = pd.read_csv('/content/drive/MyDrive/ТЗ/churn.txt',  encoding=\"cp1251\" ,sep=',', header=0, index_col = None)\n",
        "\n",
        "df.info()\n",
        "df.head()"
      ],
      "metadata": {
        "colab": {
          "base_uri": "https://localhost:8080/",
          "height": 778
        },
        "id": "OjzXepb7RQQA",
        "outputId": "e329359e-9e03-4a0a-800b-93ca6f6b9b05"
      },
      "execution_count": null,
      "outputs": [
        {
          "output_type": "stream",
          "name": "stdout",
          "text": [
            "<class 'pandas.core.frame.DataFrame'>\n",
            "RangeIndex: 3333 entries, 0 to 3332\n",
            "Data columns (total 21 columns):\n",
            " #   Column                        Non-Null Count  Dtype  \n",
            "---  ------                        --------------  -----  \n",
            " 0   Штат                          3333 non-null   object \n",
            " 1   Длина счета                   3333 non-null   int64  \n",
            " 2   Код зоны                      3333 non-null   int64  \n",
            " 3   Номер телефона                3333 non-null   object \n",
            " 4   Услуга международных звонков  3333 non-null   bool   \n",
            " 5   Услуга VMail                  3333 non-null   bool   \n",
            " 6   Количество VMail              3333 non-null   int64  \n",
            " 7   Дневные минуты                3333 non-null   float64\n",
            " 8   Дневные звонки                3333 non-null   int64  \n",
            " 9   Дневная оплата                3333 non-null   float64\n",
            " 10  Вечерние минуты               3333 non-null   float64\n",
            " 11  Вечерние звонки               3333 non-null   int64  \n",
            " 12  Вечерняя оплата               3333 non-null   float64\n",
            " 13  Ночные минуты                 3333 non-null   float64\n",
            " 14  Ночные звонки                 3333 non-null   int64  \n",
            " 15  Ночная оплата                 3333 non-null   float64\n",
            " 16  Международные минуты          3333 non-null   float64\n",
            " 17  Международные звонки          3333 non-null   int64  \n",
            " 18  Международная оплата          3333 non-null   float64\n",
            " 19  Обращений в СЦ                3333 non-null   int64  \n",
            " 20  Уход                          3333 non-null   bool   \n",
            "dtypes: bool(3), float64(8), int64(8), object(2)\n",
            "memory usage: 478.6+ KB\n"
          ]
        },
        {
          "output_type": "execute_result",
          "data": {
            "text/html": [
              "\n",
              "  <div id=\"df-f1a607f2-aeaa-49dc-9574-7a971831ebd9\">\n",
              "    <div class=\"colab-df-container\">\n",
              "      <div>\n",
              "<style scoped>\n",
              "    .dataframe tbody tr th:only-of-type {\n",
              "        vertical-align: middle;\n",
              "    }\n",
              "\n",
              "    .dataframe tbody tr th {\n",
              "        vertical-align: top;\n",
              "    }\n",
              "\n",
              "    .dataframe thead th {\n",
              "        text-align: right;\n",
              "    }\n",
              "</style>\n",
              "<table border=\"1\" class=\"dataframe\">\n",
              "  <thead>\n",
              "    <tr style=\"text-align: right;\">\n",
              "      <th></th>\n",
              "      <th>Штат</th>\n",
              "      <th>Длина счета</th>\n",
              "      <th>Код зоны</th>\n",
              "      <th>Номер телефона</th>\n",
              "      <th>Услуга международных звонков</th>\n",
              "      <th>Услуга VMail</th>\n",
              "      <th>Количество VMail</th>\n",
              "      <th>Дневные минуты</th>\n",
              "      <th>Дневные звонки</th>\n",
              "      <th>Дневная оплата</th>\n",
              "      <th>Вечерние минуты</th>\n",
              "      <th>Вечерние звонки</th>\n",
              "      <th>Вечерняя оплата</th>\n",
              "      <th>Ночные минуты</th>\n",
              "      <th>Ночные звонки</th>\n",
              "      <th>Ночная оплата</th>\n",
              "      <th>Международные минуты</th>\n",
              "      <th>Международные звонки</th>\n",
              "      <th>Международная оплата</th>\n",
              "      <th>Обращений в СЦ</th>\n",
              "      <th>Уход</th>\n",
              "    </tr>\n",
              "  </thead>\n",
              "  <tbody>\n",
              "    <tr>\n",
              "      <th>0</th>\n",
              "      <td>KS</td>\n",
              "      <td>128</td>\n",
              "      <td>415</td>\n",
              "      <td>382-4657</td>\n",
              "      <td>False</td>\n",
              "      <td>True</td>\n",
              "      <td>25</td>\n",
              "      <td>265.1</td>\n",
              "      <td>110</td>\n",
              "      <td>45.07</td>\n",
              "      <td>197.4</td>\n",
              "      <td>99</td>\n",
              "      <td>16.78</td>\n",
              "      <td>244.7</td>\n",
              "      <td>91</td>\n",
              "      <td>11.01</td>\n",
              "      <td>10.0</td>\n",
              "      <td>3</td>\n",
              "      <td>2.70</td>\n",
              "      <td>1</td>\n",
              "      <td>False</td>\n",
              "    </tr>\n",
              "    <tr>\n",
              "      <th>1</th>\n",
              "      <td>OH</td>\n",
              "      <td>107</td>\n",
              "      <td>415</td>\n",
              "      <td>371-7191</td>\n",
              "      <td>False</td>\n",
              "      <td>True</td>\n",
              "      <td>26</td>\n",
              "      <td>161.6</td>\n",
              "      <td>123</td>\n",
              "      <td>27.47</td>\n",
              "      <td>195.5</td>\n",
              "      <td>103</td>\n",
              "      <td>16.62</td>\n",
              "      <td>254.4</td>\n",
              "      <td>103</td>\n",
              "      <td>11.45</td>\n",
              "      <td>13.7</td>\n",
              "      <td>3</td>\n",
              "      <td>3.70</td>\n",
              "      <td>1</td>\n",
              "      <td>False</td>\n",
              "    </tr>\n",
              "    <tr>\n",
              "      <th>2</th>\n",
              "      <td>NJ</td>\n",
              "      <td>137</td>\n",
              "      <td>415</td>\n",
              "      <td>358-1921</td>\n",
              "      <td>False</td>\n",
              "      <td>False</td>\n",
              "      <td>0</td>\n",
              "      <td>243.4</td>\n",
              "      <td>114</td>\n",
              "      <td>41.38</td>\n",
              "      <td>121.2</td>\n",
              "      <td>110</td>\n",
              "      <td>10.30</td>\n",
              "      <td>162.6</td>\n",
              "      <td>104</td>\n",
              "      <td>7.32</td>\n",
              "      <td>12.2</td>\n",
              "      <td>5</td>\n",
              "      <td>3.29</td>\n",
              "      <td>0</td>\n",
              "      <td>False</td>\n",
              "    </tr>\n",
              "    <tr>\n",
              "      <th>3</th>\n",
              "      <td>OH</td>\n",
              "      <td>84</td>\n",
              "      <td>408</td>\n",
              "      <td>375-9999</td>\n",
              "      <td>True</td>\n",
              "      <td>False</td>\n",
              "      <td>0</td>\n",
              "      <td>299.4</td>\n",
              "      <td>71</td>\n",
              "      <td>50.90</td>\n",
              "      <td>61.9</td>\n",
              "      <td>88</td>\n",
              "      <td>5.26</td>\n",
              "      <td>196.9</td>\n",
              "      <td>89</td>\n",
              "      <td>8.86</td>\n",
              "      <td>6.6</td>\n",
              "      <td>7</td>\n",
              "      <td>1.78</td>\n",
              "      <td>2</td>\n",
              "      <td>False</td>\n",
              "    </tr>\n",
              "    <tr>\n",
              "      <th>4</th>\n",
              "      <td>OK</td>\n",
              "      <td>75</td>\n",
              "      <td>415</td>\n",
              "      <td>330-6626</td>\n",
              "      <td>True</td>\n",
              "      <td>False</td>\n",
              "      <td>0</td>\n",
              "      <td>166.7</td>\n",
              "      <td>113</td>\n",
              "      <td>28.34</td>\n",
              "      <td>148.3</td>\n",
              "      <td>122</td>\n",
              "      <td>12.61</td>\n",
              "      <td>186.9</td>\n",
              "      <td>121</td>\n",
              "      <td>8.41</td>\n",
              "      <td>10.1</td>\n",
              "      <td>3</td>\n",
              "      <td>2.73</td>\n",
              "      <td>3</td>\n",
              "      <td>False</td>\n",
              "    </tr>\n",
              "  </tbody>\n",
              "</table>\n",
              "</div>\n",
              "      <button class=\"colab-df-convert\" onclick=\"convertToInteractive('df-f1a607f2-aeaa-49dc-9574-7a971831ebd9')\"\n",
              "              title=\"Convert this dataframe to an interactive table.\"\n",
              "              style=\"display:none;\">\n",
              "        \n",
              "  <svg xmlns=\"http://www.w3.org/2000/svg\" height=\"24px\"viewBox=\"0 0 24 24\"\n",
              "       width=\"24px\">\n",
              "    <path d=\"M0 0h24v24H0V0z\" fill=\"none\"/>\n",
              "    <path d=\"M18.56 5.44l.94 2.06.94-2.06 2.06-.94-2.06-.94-.94-2.06-.94 2.06-2.06.94zm-11 1L8.5 8.5l.94-2.06 2.06-.94-2.06-.94L8.5 2.5l-.94 2.06-2.06.94zm10 10l.94 2.06.94-2.06 2.06-.94-2.06-.94-.94-2.06-.94 2.06-2.06.94z\"/><path d=\"M17.41 7.96l-1.37-1.37c-.4-.4-.92-.59-1.43-.59-.52 0-1.04.2-1.43.59L10.3 9.45l-7.72 7.72c-.78.78-.78 2.05 0 2.83L4 21.41c.39.39.9.59 1.41.59.51 0 1.02-.2 1.41-.59l7.78-7.78 2.81-2.81c.8-.78.8-2.07 0-2.86zM5.41 20L4 18.59l7.72-7.72 1.47 1.35L5.41 20z\"/>\n",
              "  </svg>\n",
              "      </button>\n",
              "      \n",
              "  <style>\n",
              "    .colab-df-container {\n",
              "      display:flex;\n",
              "      flex-wrap:wrap;\n",
              "      gap: 12px;\n",
              "    }\n",
              "\n",
              "    .colab-df-convert {\n",
              "      background-color: #E8F0FE;\n",
              "      border: none;\n",
              "      border-radius: 50%;\n",
              "      cursor: pointer;\n",
              "      display: none;\n",
              "      fill: #1967D2;\n",
              "      height: 32px;\n",
              "      padding: 0 0 0 0;\n",
              "      width: 32px;\n",
              "    }\n",
              "\n",
              "    .colab-df-convert:hover {\n",
              "      background-color: #E2EBFA;\n",
              "      box-shadow: 0px 1px 2px rgba(60, 64, 67, 0.3), 0px 1px 3px 1px rgba(60, 64, 67, 0.15);\n",
              "      fill: #174EA6;\n",
              "    }\n",
              "\n",
              "    [theme=dark] .colab-df-convert {\n",
              "      background-color: #3B4455;\n",
              "      fill: #D2E3FC;\n",
              "    }\n",
              "\n",
              "    [theme=dark] .colab-df-convert:hover {\n",
              "      background-color: #434B5C;\n",
              "      box-shadow: 0px 1px 3px 1px rgba(0, 0, 0, 0.15);\n",
              "      filter: drop-shadow(0px 1px 2px rgba(0, 0, 0, 0.3));\n",
              "      fill: #FFFFFF;\n",
              "    }\n",
              "  </style>\n",
              "\n",
              "      <script>\n",
              "        const buttonEl =\n",
              "          document.querySelector('#df-f1a607f2-aeaa-49dc-9574-7a971831ebd9 button.colab-df-convert');\n",
              "        buttonEl.style.display =\n",
              "          google.colab.kernel.accessAllowed ? 'block' : 'none';\n",
              "\n",
              "        async function convertToInteractive(key) {\n",
              "          const element = document.querySelector('#df-f1a607f2-aeaa-49dc-9574-7a971831ebd9');\n",
              "          const dataTable =\n",
              "            await google.colab.kernel.invokeFunction('convertToInteractive',\n",
              "                                                     [key], {});\n",
              "          if (!dataTable) return;\n",
              "\n",
              "          const docLinkHtml = 'Like what you see? Visit the ' +\n",
              "            '<a target=\"_blank\" href=https://colab.research.google.com/notebooks/data_table.ipynb>data table notebook</a>'\n",
              "            + ' to learn more about interactive tables.';\n",
              "          element.innerHTML = '';\n",
              "          dataTable['output_type'] = 'display_data';\n",
              "          await google.colab.output.renderOutput(dataTable, element);\n",
              "          const docLink = document.createElement('div');\n",
              "          docLink.innerHTML = docLinkHtml;\n",
              "          element.appendChild(docLink);\n",
              "        }\n",
              "      </script>\n",
              "    </div>\n",
              "  </div>\n",
              "  "
            ],
            "text/plain": [
              "  Штат  Длина счета  Код зоны  ... Международная оплата  Обращений в СЦ   Уход\n",
              "0   KS          128       415  ...                 2.70               1  False\n",
              "1   OH          107       415  ...                 3.70               1  False\n",
              "2   NJ          137       415  ...                 3.29               0  False\n",
              "3   OH           84       408  ...                 1.78               2  False\n",
              "4   OK           75       415  ...                 2.73               3  False\n",
              "\n",
              "[5 rows x 21 columns]"
            ]
          },
          "metadata": {},
          "execution_count": 548
        }
      ]
    },
    {
      "cell_type": "markdown",
      "source": [
        "<h1><b>Exploring data - Вводной анализ </h1>\n"
      ],
      "metadata": {
        "id": "mx0pDpShOuCY"
      }
    },
    {
      "cell_type": "code",
      "source": [
        "df.describe()\n",
        "\n"
      ],
      "metadata": {
        "colab": {
          "base_uri": "https://localhost:8080/",
          "height": 378
        },
        "id": "jWKKu9ESMxg9",
        "outputId": "a0c48ea5-0fcf-43a5-e95e-a7dd80774eb5"
      },
      "execution_count": null,
      "outputs": [
        {
          "output_type": "execute_result",
          "data": {
            "text/html": [
              "\n",
              "  <div id=\"df-489e41c0-02e8-4d8d-97a8-e2925b2247bf\">\n",
              "    <div class=\"colab-df-container\">\n",
              "      <div>\n",
              "<style scoped>\n",
              "    .dataframe tbody tr th:only-of-type {\n",
              "        vertical-align: middle;\n",
              "    }\n",
              "\n",
              "    .dataframe tbody tr th {\n",
              "        vertical-align: top;\n",
              "    }\n",
              "\n",
              "    .dataframe thead th {\n",
              "        text-align: right;\n",
              "    }\n",
              "</style>\n",
              "<table border=\"1\" class=\"dataframe\">\n",
              "  <thead>\n",
              "    <tr style=\"text-align: right;\">\n",
              "      <th></th>\n",
              "      <th>Длина счета</th>\n",
              "      <th>Код зоны</th>\n",
              "      <th>Количество VMail</th>\n",
              "      <th>Дневные минуты</th>\n",
              "      <th>Дневные звонки</th>\n",
              "      <th>Дневная оплата</th>\n",
              "      <th>Вечерние минуты</th>\n",
              "      <th>Вечерние звонки</th>\n",
              "      <th>Вечерняя оплата</th>\n",
              "      <th>Ночные минуты</th>\n",
              "      <th>Ночные звонки</th>\n",
              "      <th>Ночная оплата</th>\n",
              "      <th>Международные минуты</th>\n",
              "      <th>Международные звонки</th>\n",
              "      <th>Международная оплата</th>\n",
              "      <th>Обращений в СЦ</th>\n",
              "    </tr>\n",
              "  </thead>\n",
              "  <tbody>\n",
              "    <tr>\n",
              "      <th>count</th>\n",
              "      <td>3333.000000</td>\n",
              "      <td>3333.000000</td>\n",
              "      <td>3333.000000</td>\n",
              "      <td>3333.000000</td>\n",
              "      <td>3333.000000</td>\n",
              "      <td>3333.000000</td>\n",
              "      <td>3333.000000</td>\n",
              "      <td>3333.000000</td>\n",
              "      <td>3333.000000</td>\n",
              "      <td>3333.000000</td>\n",
              "      <td>3333.000000</td>\n",
              "      <td>3333.000000</td>\n",
              "      <td>3333.000000</td>\n",
              "      <td>3333.000000</td>\n",
              "      <td>3333.000000</td>\n",
              "      <td>3333.000000</td>\n",
              "    </tr>\n",
              "    <tr>\n",
              "      <th>mean</th>\n",
              "      <td>101.064806</td>\n",
              "      <td>437.182418</td>\n",
              "      <td>8.099010</td>\n",
              "      <td>179.775098</td>\n",
              "      <td>100.435644</td>\n",
              "      <td>30.562307</td>\n",
              "      <td>200.980348</td>\n",
              "      <td>100.114311</td>\n",
              "      <td>17.083540</td>\n",
              "      <td>200.872037</td>\n",
              "      <td>100.107711</td>\n",
              "      <td>9.039325</td>\n",
              "      <td>10.237294</td>\n",
              "      <td>4.479448</td>\n",
              "      <td>2.764581</td>\n",
              "      <td>1.562856</td>\n",
              "    </tr>\n",
              "    <tr>\n",
              "      <th>std</th>\n",
              "      <td>39.822106</td>\n",
              "      <td>42.371290</td>\n",
              "      <td>13.688365</td>\n",
              "      <td>54.467389</td>\n",
              "      <td>20.069084</td>\n",
              "      <td>9.259435</td>\n",
              "      <td>50.713844</td>\n",
              "      <td>19.922625</td>\n",
              "      <td>4.310668</td>\n",
              "      <td>50.573847</td>\n",
              "      <td>19.568609</td>\n",
              "      <td>2.275873</td>\n",
              "      <td>2.791840</td>\n",
              "      <td>2.461214</td>\n",
              "      <td>0.753773</td>\n",
              "      <td>1.315491</td>\n",
              "    </tr>\n",
              "    <tr>\n",
              "      <th>min</th>\n",
              "      <td>1.000000</td>\n",
              "      <td>408.000000</td>\n",
              "      <td>0.000000</td>\n",
              "      <td>0.000000</td>\n",
              "      <td>0.000000</td>\n",
              "      <td>0.000000</td>\n",
              "      <td>0.000000</td>\n",
              "      <td>0.000000</td>\n",
              "      <td>0.000000</td>\n",
              "      <td>23.200000</td>\n",
              "      <td>33.000000</td>\n",
              "      <td>1.040000</td>\n",
              "      <td>0.000000</td>\n",
              "      <td>0.000000</td>\n",
              "      <td>0.000000</td>\n",
              "      <td>0.000000</td>\n",
              "    </tr>\n",
              "    <tr>\n",
              "      <th>25%</th>\n",
              "      <td>74.000000</td>\n",
              "      <td>408.000000</td>\n",
              "      <td>0.000000</td>\n",
              "      <td>143.700000</td>\n",
              "      <td>87.000000</td>\n",
              "      <td>24.430000</td>\n",
              "      <td>166.600000</td>\n",
              "      <td>87.000000</td>\n",
              "      <td>14.160000</td>\n",
              "      <td>167.000000</td>\n",
              "      <td>87.000000</td>\n",
              "      <td>7.520000</td>\n",
              "      <td>8.500000</td>\n",
              "      <td>3.000000</td>\n",
              "      <td>2.300000</td>\n",
              "      <td>1.000000</td>\n",
              "    </tr>\n",
              "    <tr>\n",
              "      <th>50%</th>\n",
              "      <td>101.000000</td>\n",
              "      <td>415.000000</td>\n",
              "      <td>0.000000</td>\n",
              "      <td>179.400000</td>\n",
              "      <td>101.000000</td>\n",
              "      <td>30.500000</td>\n",
              "      <td>201.400000</td>\n",
              "      <td>100.000000</td>\n",
              "      <td>17.120000</td>\n",
              "      <td>201.200000</td>\n",
              "      <td>100.000000</td>\n",
              "      <td>9.050000</td>\n",
              "      <td>10.300000</td>\n",
              "      <td>4.000000</td>\n",
              "      <td>2.780000</td>\n",
              "      <td>1.000000</td>\n",
              "    </tr>\n",
              "    <tr>\n",
              "      <th>75%</th>\n",
              "      <td>127.000000</td>\n",
              "      <td>510.000000</td>\n",
              "      <td>20.000000</td>\n",
              "      <td>216.400000</td>\n",
              "      <td>114.000000</td>\n",
              "      <td>36.790000</td>\n",
              "      <td>235.300000</td>\n",
              "      <td>114.000000</td>\n",
              "      <td>20.000000</td>\n",
              "      <td>235.300000</td>\n",
              "      <td>113.000000</td>\n",
              "      <td>10.590000</td>\n",
              "      <td>12.100000</td>\n",
              "      <td>6.000000</td>\n",
              "      <td>3.270000</td>\n",
              "      <td>2.000000</td>\n",
              "    </tr>\n",
              "    <tr>\n",
              "      <th>max</th>\n",
              "      <td>243.000000</td>\n",
              "      <td>510.000000</td>\n",
              "      <td>51.000000</td>\n",
              "      <td>350.800000</td>\n",
              "      <td>165.000000</td>\n",
              "      <td>59.640000</td>\n",
              "      <td>363.700000</td>\n",
              "      <td>170.000000</td>\n",
              "      <td>30.910000</td>\n",
              "      <td>395.000000</td>\n",
              "      <td>175.000000</td>\n",
              "      <td>17.770000</td>\n",
              "      <td>20.000000</td>\n",
              "      <td>20.000000</td>\n",
              "      <td>5.400000</td>\n",
              "      <td>9.000000</td>\n",
              "    </tr>\n",
              "  </tbody>\n",
              "</table>\n",
              "</div>\n",
              "      <button class=\"colab-df-convert\" onclick=\"convertToInteractive('df-489e41c0-02e8-4d8d-97a8-e2925b2247bf')\"\n",
              "              title=\"Convert this dataframe to an interactive table.\"\n",
              "              style=\"display:none;\">\n",
              "        \n",
              "  <svg xmlns=\"http://www.w3.org/2000/svg\" height=\"24px\"viewBox=\"0 0 24 24\"\n",
              "       width=\"24px\">\n",
              "    <path d=\"M0 0h24v24H0V0z\" fill=\"none\"/>\n",
              "    <path d=\"M18.56 5.44l.94 2.06.94-2.06 2.06-.94-2.06-.94-.94-2.06-.94 2.06-2.06.94zm-11 1L8.5 8.5l.94-2.06 2.06-.94-2.06-.94L8.5 2.5l-.94 2.06-2.06.94zm10 10l.94 2.06.94-2.06 2.06-.94-2.06-.94-.94-2.06-.94 2.06-2.06.94z\"/><path d=\"M17.41 7.96l-1.37-1.37c-.4-.4-.92-.59-1.43-.59-.52 0-1.04.2-1.43.59L10.3 9.45l-7.72 7.72c-.78.78-.78 2.05 0 2.83L4 21.41c.39.39.9.59 1.41.59.51 0 1.02-.2 1.41-.59l7.78-7.78 2.81-2.81c.8-.78.8-2.07 0-2.86zM5.41 20L4 18.59l7.72-7.72 1.47 1.35L5.41 20z\"/>\n",
              "  </svg>\n",
              "      </button>\n",
              "      \n",
              "  <style>\n",
              "    .colab-df-container {\n",
              "      display:flex;\n",
              "      flex-wrap:wrap;\n",
              "      gap: 12px;\n",
              "    }\n",
              "\n",
              "    .colab-df-convert {\n",
              "      background-color: #E8F0FE;\n",
              "      border: none;\n",
              "      border-radius: 50%;\n",
              "      cursor: pointer;\n",
              "      display: none;\n",
              "      fill: #1967D2;\n",
              "      height: 32px;\n",
              "      padding: 0 0 0 0;\n",
              "      width: 32px;\n",
              "    }\n",
              "\n",
              "    .colab-df-convert:hover {\n",
              "      background-color: #E2EBFA;\n",
              "      box-shadow: 0px 1px 2px rgba(60, 64, 67, 0.3), 0px 1px 3px 1px rgba(60, 64, 67, 0.15);\n",
              "      fill: #174EA6;\n",
              "    }\n",
              "\n",
              "    [theme=dark] .colab-df-convert {\n",
              "      background-color: #3B4455;\n",
              "      fill: #D2E3FC;\n",
              "    }\n",
              "\n",
              "    [theme=dark] .colab-df-convert:hover {\n",
              "      background-color: #434B5C;\n",
              "      box-shadow: 0px 1px 3px 1px rgba(0, 0, 0, 0.15);\n",
              "      filter: drop-shadow(0px 1px 2px rgba(0, 0, 0, 0.3));\n",
              "      fill: #FFFFFF;\n",
              "    }\n",
              "  </style>\n",
              "\n",
              "      <script>\n",
              "        const buttonEl =\n",
              "          document.querySelector('#df-489e41c0-02e8-4d8d-97a8-e2925b2247bf button.colab-df-convert');\n",
              "        buttonEl.style.display =\n",
              "          google.colab.kernel.accessAllowed ? 'block' : 'none';\n",
              "\n",
              "        async function convertToInteractive(key) {\n",
              "          const element = document.querySelector('#df-489e41c0-02e8-4d8d-97a8-e2925b2247bf');\n",
              "          const dataTable =\n",
              "            await google.colab.kernel.invokeFunction('convertToInteractive',\n",
              "                                                     [key], {});\n",
              "          if (!dataTable) return;\n",
              "\n",
              "          const docLinkHtml = 'Like what you see? Visit the ' +\n",
              "            '<a target=\"_blank\" href=https://colab.research.google.com/notebooks/data_table.ipynb>data table notebook</a>'\n",
              "            + ' to learn more about interactive tables.';\n",
              "          element.innerHTML = '';\n",
              "          dataTable['output_type'] = 'display_data';\n",
              "          await google.colab.output.renderOutput(dataTable, element);\n",
              "          const docLink = document.createElement('div');\n",
              "          docLink.innerHTML = docLinkHtml;\n",
              "          element.appendChild(docLink);\n",
              "        }\n",
              "      </script>\n",
              "    </div>\n",
              "  </div>\n",
              "  "
            ],
            "text/plain": [
              "       Длина счета     Код зоны  ...  Международная оплата  Обращений в СЦ\n",
              "count  3333.000000  3333.000000  ...           3333.000000     3333.000000\n",
              "mean    101.064806   437.182418  ...              2.764581        1.562856\n",
              "std      39.822106    42.371290  ...              0.753773        1.315491\n",
              "min       1.000000   408.000000  ...              0.000000        0.000000\n",
              "25%      74.000000   408.000000  ...              2.300000        1.000000\n",
              "50%     101.000000   415.000000  ...              2.780000        1.000000\n",
              "75%     127.000000   510.000000  ...              3.270000        2.000000\n",
              "max     243.000000   510.000000  ...              5.400000        9.000000\n",
              "\n",
              "[8 rows x 16 columns]"
            ]
          },
          "metadata": {},
          "execution_count": 549
        }
      ]
    },
    {
      "cell_type": "code",
      "source": [
        "df.isnull().sum()"
      ],
      "metadata": {
        "colab": {
          "base_uri": "https://localhost:8080/"
        },
        "id": "fSHKzPRyNySr",
        "outputId": "0b3ea356-48d8-48b5-c792-e7b65d8befdc"
      },
      "execution_count": null,
      "outputs": [
        {
          "output_type": "execute_result",
          "data": {
            "text/plain": [
              "Штат                            0\n",
              "Длина счета                     0\n",
              "Код зоны                        0\n",
              "Номер телефона                  0\n",
              "Услуга международных звонков    0\n",
              "Услуга VMail                    0\n",
              "Количество VMail                0\n",
              "Дневные минуты                  0\n",
              "Дневные звонки                  0\n",
              "Дневная оплата                  0\n",
              "Вечерние минуты                 0\n",
              "Вечерние звонки                 0\n",
              "Вечерняя оплата                 0\n",
              "Ночные минуты                   0\n",
              "Ночные звонки                   0\n",
              "Ночная оплата                   0\n",
              "Международные минуты            0\n",
              "Международные звонки            0\n",
              "Международная оплата            0\n",
              "Обращений в СЦ                  0\n",
              "Уход                            0\n",
              "dtype: int64"
            ]
          },
          "metadata": {},
          "execution_count": 550
        }
      ]
    },
    {
      "cell_type": "code",
      "source": [
        "df.nunique()"
      ],
      "metadata": {
        "colab": {
          "base_uri": "https://localhost:8080/"
        },
        "id": "iPpV17C3nSCz",
        "outputId": "88f90f92-cb83-4e58-f7f0-2a86ef1beb17"
      },
      "execution_count": null,
      "outputs": [
        {
          "output_type": "execute_result",
          "data": {
            "text/plain": [
              "Штат                              51\n",
              "Длина счета                      212\n",
              "Код зоны                           3\n",
              "Номер телефона                  3333\n",
              "Услуга международных звонков       2\n",
              "Услуга VMail                       2\n",
              "Количество VMail                  46\n",
              "Дневные минуты                  1667\n",
              "Дневные звонки                   119\n",
              "Дневная оплата                  1667\n",
              "Вечерние минуты                 1611\n",
              "Вечерние звонки                  123\n",
              "Вечерняя оплата                 1440\n",
              "Ночные минуты                   1591\n",
              "Ночные звонки                    120\n",
              "Ночная оплата                    933\n",
              "Международные минуты             162\n",
              "Международные звонки              21\n",
              "Международная оплата             162\n",
              "Обращений в СЦ                    10\n",
              "Уход                               2\n",
              "dtype: int64"
            ]
          },
          "metadata": {},
          "execution_count": 551
        }
      ]
    },
    {
      "cell_type": "code",
      "source": [
        "#General correlation\n",
        "\n",
        "df.corr(method='pearson').style.background_gradient(cmap=plt.get_cmap('coolwarm'), axis=1)"
      ],
      "metadata": {
        "colab": {
          "base_uri": "https://localhost:8080/",
          "height": 862
        },
        "id": "Vir3S_JjOGq6",
        "outputId": "6d02f42c-1268-42f1-b873-67924b2bea00"
      },
      "execution_count": null,
      "outputs": [
        {
          "output_type": "execute_result",
          "data": {
            "text/html": [
              "<style type=\"text/css\">\n",
              "#T_e43a9_row0_col0, #T_e43a9_row1_col1, #T_e43a9_row2_col2, #T_e43a9_row3_col3, #T_e43a9_row4_col4, #T_e43a9_row5_col5, #T_e43a9_row5_col7, #T_e43a9_row6_col6, #T_e43a9_row7_col5, #T_e43a9_row7_col7, #T_e43a9_row8_col8, #T_e43a9_row8_col10, #T_e43a9_row9_col9, #T_e43a9_row10_col8, #T_e43a9_row10_col10, #T_e43a9_row11_col11, #T_e43a9_row11_col13, #T_e43a9_row12_col12, #T_e43a9_row13_col11, #T_e43a9_row13_col13, #T_e43a9_row14_col14, #T_e43a9_row14_col16, #T_e43a9_row15_col15, #T_e43a9_row16_col14, #T_e43a9_row16_col16, #T_e43a9_row17_col17, #T_e43a9_row18_col18 {\n",
              "  background-color: #b40426;\n",
              "  color: #f1f1f1;\n",
              "}\n",
              "#T_e43a9_row0_col1, #T_e43a9_row0_col12, #T_e43a9_row1_col15, #T_e43a9_row2_col11, #T_e43a9_row2_col13, #T_e43a9_row3_col18, #T_e43a9_row4_col18, #T_e43a9_row5_col14, #T_e43a9_row5_col16, #T_e43a9_row5_col17, #T_e43a9_row6_col8, #T_e43a9_row6_col10, #T_e43a9_row6_col12, #T_e43a9_row6_col17, #T_e43a9_row7_col14, #T_e43a9_row7_col16, #T_e43a9_row7_col17, #T_e43a9_row8_col6, #T_e43a9_row9_col1, #T_e43a9_row9_col8, #T_e43a9_row9_col10, #T_e43a9_row10_col6, #T_e43a9_row11_col2, #T_e43a9_row12_col6, #T_e43a9_row13_col2, #T_e43a9_row14_col1, #T_e43a9_row14_col11, #T_e43a9_row14_col13, #T_e43a9_row15_col18, #T_e43a9_row16_col1, #T_e43a9_row16_col11, #T_e43a9_row16_col13, #T_e43a9_row17_col2, #T_e43a9_row18_col3 {\n",
              "  background-color: #3b4cc0;\n",
              "  color: #f1f1f1;\n",
              "}\n",
              "#T_e43a9_row0_col2, #T_e43a9_row2_col4, #T_e43a9_row5_col12, #T_e43a9_row7_col12, #T_e43a9_row8_col4, #T_e43a9_row10_col4, #T_e43a9_row11_col4, #T_e43a9_row11_col12, #T_e43a9_row12_col1, #T_e43a9_row13_col4, #T_e43a9_row13_col12, #T_e43a9_row15_col11, #T_e43a9_row15_col13 {\n",
              "  background-color: #455cce;\n",
              "  color: #f1f1f1;\n",
              "}\n",
              "#T_e43a9_row0_col3, #T_e43a9_row0_col5, #T_e43a9_row0_col7, #T_e43a9_row1_col11, #T_e43a9_row1_col13, #T_e43a9_row5_col0, #T_e43a9_row5_col11, #T_e43a9_row5_col13, #T_e43a9_row7_col0, #T_e43a9_row7_col11, #T_e43a9_row7_col13, #T_e43a9_row9_col2, #T_e43a9_row9_col6, #T_e43a9_row9_col12, #T_e43a9_row11_col0, #T_e43a9_row11_col8, #T_e43a9_row11_col10, #T_e43a9_row11_col15, #T_e43a9_row11_col17, #T_e43a9_row12_col15, #T_e43a9_row13_col0, #T_e43a9_row13_col8, #T_e43a9_row13_col10, #T_e43a9_row13_col15, #T_e43a9_row13_col17, #T_e43a9_row14_col3, #T_e43a9_row16_col3 {\n",
              "  background-color: #3f53c6;\n",
              "  color: #f1f1f1;\n",
              "}\n",
              "#T_e43a9_row0_col4, #T_e43a9_row0_col17, #T_e43a9_row1_col0, #T_e43a9_row5_col3, #T_e43a9_row6_col1, #T_e43a9_row6_col3, #T_e43a9_row6_col4, #T_e43a9_row7_col3, #T_e43a9_row8_col9, #T_e43a9_row8_col11, #T_e43a9_row8_col13, #T_e43a9_row8_col14, #T_e43a9_row8_col16, #T_e43a9_row8_col17, #T_e43a9_row9_col11, #T_e43a9_row9_col13, #T_e43a9_row10_col9, #T_e43a9_row10_col11, #T_e43a9_row10_col13, #T_e43a9_row10_col14, #T_e43a9_row10_col16, #T_e43a9_row10_col17, #T_e43a9_row14_col5, #T_e43a9_row14_col7, #T_e43a9_row14_col17, #T_e43a9_row16_col5, #T_e43a9_row16_col7, #T_e43a9_row16_col17, #T_e43a9_row17_col4, #T_e43a9_row17_col5, #T_e43a9_row17_col7, #T_e43a9_row17_col8, #T_e43a9_row17_col10, #T_e43a9_row17_col12, #T_e43a9_row18_col4 {\n",
              "  background-color: #3d50c3;\n",
              "  color: #f1f1f1;\n",
              "}\n",
              "#T_e43a9_row0_col6, #T_e43a9_row2_col0, #T_e43a9_row15_col6, #T_e43a9_row15_col8, #T_e43a9_row15_col10, #T_e43a9_row17_col1 {\n",
              "  background-color: #4a63d3;\n",
              "  color: #f1f1f1;\n",
              "}\n",
              "#T_e43a9_row0_col8, #T_e43a9_row0_col10, #T_e43a9_row0_col11, #T_e43a9_row0_col13, #T_e43a9_row1_col14, #T_e43a9_row1_col16, #T_e43a9_row2_col17, #T_e43a9_row5_col1, #T_e43a9_row7_col1, #T_e43a9_row9_col3, #T_e43a9_row9_col4, #T_e43a9_row12_col0, #T_e43a9_row12_col14, #T_e43a9_row12_col16, #T_e43a9_row12_col17, #T_e43a9_row14_col8, #T_e43a9_row14_col10, #T_e43a9_row14_col12, #T_e43a9_row16_col8, #T_e43a9_row16_col10, #T_e43a9_row16_col12, #T_e43a9_row17_col3, #T_e43a9_row17_col6, #T_e43a9_row17_col15 {\n",
              "  background-color: #3c4ec2;\n",
              "  color: #f1f1f1;\n",
              "}\n",
              "#T_e43a9_row0_col9, #T_e43a9_row0_col15, #T_e43a9_row2_col3, #T_e43a9_row2_col6, #T_e43a9_row2_col9, #T_e43a9_row11_col3, #T_e43a9_row11_col5, #T_e43a9_row11_col7, #T_e43a9_row12_col2, #T_e43a9_row12_col3, #T_e43a9_row13_col3, #T_e43a9_row13_col5, #T_e43a9_row13_col7, #T_e43a9_row15_col17 {\n",
              "  background-color: #445acc;\n",
              "  color: #f1f1f1;\n",
              "}\n",
              "#T_e43a9_row0_col14, #T_e43a9_row0_col16, #T_e43a9_row1_col3, #T_e43a9_row1_col4, #T_e43a9_row5_col6, #T_e43a9_row5_col8, #T_e43a9_row5_col10, #T_e43a9_row5_col15, #T_e43a9_row7_col6, #T_e43a9_row7_col8, #T_e43a9_row7_col10, #T_e43a9_row7_col15, #T_e43a9_row9_col14, #T_e43a9_row9_col16, #T_e43a9_row9_col18, #T_e43a9_row11_col1, #T_e43a9_row13_col1, #T_e43a9_row14_col4, #T_e43a9_row16_col4, #T_e43a9_row17_col0 {\n",
              "  background-color: #4055c8;\n",
              "  color: #f1f1f1;\n",
              "}\n",
              "#T_e43a9_row0_col18, #T_e43a9_row1_col18, #T_e43a9_row5_col9, #T_e43a9_row6_col5, #T_e43a9_row6_col7, #T_e43a9_row7_col9, #T_e43a9_row8_col5, #T_e43a9_row8_col7, #T_e43a9_row8_col12, #T_e43a9_row9_col0, #T_e43a9_row9_col15, #T_e43a9_row10_col5, #T_e43a9_row10_col7, #T_e43a9_row10_col12, #T_e43a9_row12_col11, #T_e43a9_row12_col13, #T_e43a9_row16_col0 {\n",
              "  background-color: #4358cb;\n",
              "  color: #f1f1f1;\n",
              "}\n",
              "#T_e43a9_row1_col2, #T_e43a9_row2_col14, #T_e43a9_row2_col16, #T_e43a9_row4_col6 {\n",
              "  background-color: #506bda;\n",
              "  color: #f1f1f1;\n",
              "}\n",
              "#T_e43a9_row1_col5, #T_e43a9_row1_col6, #T_e43a9_row1_col7, #T_e43a9_row1_col9, #T_e43a9_row5_col4, #T_e43a9_row7_col4, #T_e43a9_row8_col0, #T_e43a9_row9_col17, #T_e43a9_row10_col0, #T_e43a9_row11_col14, #T_e43a9_row11_col16, #T_e43a9_row13_col14, #T_e43a9_row13_col16, #T_e43a9_row17_col11, #T_e43a9_row17_col13, #T_e43a9_row17_col14, #T_e43a9_row17_col16 {\n",
              "  background-color: #3e51c5;\n",
              "  color: #f1f1f1;\n",
              "}\n",
              "#T_e43a9_row1_col8, #T_e43a9_row1_col10, #T_e43a9_row6_col2, #T_e43a9_row6_col9, #T_e43a9_row6_col15, #T_e43a9_row8_col1, #T_e43a9_row8_col15, #T_e43a9_row9_col5, #T_e43a9_row9_col7, #T_e43a9_row10_col1, #T_e43a9_row10_col15, #T_e43a9_row11_col9, #T_e43a9_row12_col4, #T_e43a9_row12_col8, #T_e43a9_row12_col9, #T_e43a9_row12_col10, #T_e43a9_row12_col18, #T_e43a9_row13_col9, #T_e43a9_row14_col0, #T_e43a9_row14_col9, #T_e43a9_row15_col1, #T_e43a9_row16_col9, #T_e43a9_row17_col9 {\n",
              "  background-color: #4257c9;\n",
              "  color: #f1f1f1;\n",
              "}\n",
              "#T_e43a9_row1_col12, #T_e43a9_row2_col12, #T_e43a9_row6_col14, #T_e43a9_row6_col16, #T_e43a9_row6_col18, #T_e43a9_row8_col2, #T_e43a9_row8_col3, #T_e43a9_row10_col2, #T_e43a9_row10_col3, #T_e43a9_row12_col5, #T_e43a9_row12_col7, #T_e43a9_row14_col6, #T_e43a9_row16_col6 {\n",
              "  background-color: #465ecf;\n",
              "  color: #f1f1f1;\n",
              "}\n",
              "#T_e43a9_row1_col17, #T_e43a9_row11_col6, #T_e43a9_row13_col6, #T_e43a9_row14_col15, #T_e43a9_row15_col12, #T_e43a9_row16_col15 {\n",
              "  background-color: #4961d2;\n",
              "  color: #f1f1f1;\n",
              "}\n",
              "#T_e43a9_row2_col1, #T_e43a9_row2_col5, #T_e43a9_row2_col7, #T_e43a9_row3_col17, #T_e43a9_row4_col0, #T_e43a9_row4_col9 {\n",
              "  background-color: #516ddb;\n",
              "  color: #f1f1f1;\n",
              "}\n",
              "#T_e43a9_row2_col8, #T_e43a9_row2_col10, #T_e43a9_row2_col15, #T_e43a9_row6_col11, #T_e43a9_row6_col13, #T_e43a9_row18_col15 {\n",
              "  background-color: #485fd1;\n",
              "  color: #f1f1f1;\n",
              "}\n",
              "#T_e43a9_row2_col18, #T_e43a9_row18_col5, #T_e43a9_row18_col7 {\n",
              "  background-color: #97b8ff;\n",
              "  color: #000000;\n",
              "}\n",
              "#T_e43a9_row3_col0, #T_e43a9_row4_col15 {\n",
              "  background-color: #5875e1;\n",
              "  color: #f1f1f1;\n",
              "}\n",
              "#T_e43a9_row3_col1, #T_e43a9_row3_col5, #T_e43a9_row3_col7, #T_e43a9_row3_col14, #T_e43a9_row3_col16, #T_e43a9_row4_col2 {\n",
              "  background-color: #5673e0;\n",
              "  color: #f1f1f1;\n",
              "}\n",
              "#T_e43a9_row3_col2, #T_e43a9_row3_col11, #T_e43a9_row3_col13, #T_e43a9_row3_col15, #T_e43a9_row4_col8, #T_e43a9_row4_col10, #T_e43a9_row18_col1, #T_e43a9_row18_col9, #T_e43a9_row18_col12 {\n",
              "  background-color: #5977e3;\n",
              "  color: #f1f1f1;\n",
              "}\n",
              "#T_e43a9_row3_col4, #T_e43a9_row4_col3 {\n",
              "  background-color: #c32e31;\n",
              "  color: #f1f1f1;\n",
              "}\n",
              "#T_e43a9_row3_col6, #T_e43a9_row4_col5, #T_e43a9_row4_col7, #T_e43a9_row4_col14, #T_e43a9_row4_col16, #T_e43a9_row14_col18, #T_e43a9_row16_col18 {\n",
              "  background-color: #5470de;\n",
              "  color: #f1f1f1;\n",
              "}\n",
              "#T_e43a9_row3_col8, #T_e43a9_row3_col10, #T_e43a9_row8_col18, #T_e43a9_row10_col18, #T_e43a9_row18_col6 {\n",
              "  background-color: #5d7ce6;\n",
              "  color: #f1f1f1;\n",
              "}\n",
              "#T_e43a9_row3_col9, #T_e43a9_row4_col11, #T_e43a9_row4_col12, #T_e43a9_row4_col13 {\n",
              "  background-color: #5572df;\n",
              "  color: #f1f1f1;\n",
              "}\n",
              "#T_e43a9_row3_col12, #T_e43a9_row18_col0 {\n",
              "  background-color: #5b7ae5;\n",
              "  color: #f1f1f1;\n",
              "}\n",
              "#T_e43a9_row4_col1, #T_e43a9_row15_col14, #T_e43a9_row15_col16 {\n",
              "  background-color: #536edd;\n",
              "  color: #f1f1f1;\n",
              "}\n",
              "#T_e43a9_row4_col17, #T_e43a9_row15_col0, #T_e43a9_row15_col2, #T_e43a9_row15_col9 {\n",
              "  background-color: #4f69d9;\n",
              "  color: #f1f1f1;\n",
              "}\n",
              "#T_e43a9_row5_col2, #T_e43a9_row6_col0, #T_e43a9_row7_col2 {\n",
              "  background-color: #4c66d6;\n",
              "  color: #f1f1f1;\n",
              "}\n",
              "#T_e43a9_row5_col18, #T_e43a9_row7_col18 {\n",
              "  background-color: #81a4fb;\n",
              "  color: #f1f1f1;\n",
              "}\n",
              "#T_e43a9_row11_col18, #T_e43a9_row13_col18, #T_e43a9_row14_col2, #T_e43a9_row15_col4, #T_e43a9_row16_col2 {\n",
              "  background-color: #4e68d8;\n",
              "  color: #f1f1f1;\n",
              "}\n",
              "#T_e43a9_row15_col3, #T_e43a9_row15_col5, #T_e43a9_row15_col7 {\n",
              "  background-color: #4b64d5;\n",
              "  color: #f1f1f1;\n",
              "}\n",
              "#T_e43a9_row17_col18 {\n",
              "  background-color: #85a8fc;\n",
              "  color: #f1f1f1;\n",
              "}\n",
              "#T_e43a9_row18_col2 {\n",
              "  background-color: #a9c6fd;\n",
              "  color: #000000;\n",
              "}\n",
              "#T_e43a9_row18_col8, #T_e43a9_row18_col10 {\n",
              "  background-color: #7396f5;\n",
              "  color: #f1f1f1;\n",
              "}\n",
              "#T_e43a9_row18_col11, #T_e43a9_row18_col13 {\n",
              "  background-color: #6180e9;\n",
              "  color: #f1f1f1;\n",
              "}\n",
              "#T_e43a9_row18_col14, #T_e43a9_row18_col16 {\n",
              "  background-color: #6b8df0;\n",
              "  color: #f1f1f1;\n",
              "}\n",
              "#T_e43a9_row18_col17 {\n",
              "  background-color: #98b9ff;\n",
              "  color: #000000;\n",
              "}\n",
              "</style>\n",
              "<table id=\"T_e43a9_\" class=\"dataframe\">\n",
              "  <thead>\n",
              "    <tr>\n",
              "      <th class=\"blank level0\" >&nbsp;</th>\n",
              "      <th class=\"col_heading level0 col0\" >Длина счета</th>\n",
              "      <th class=\"col_heading level0 col1\" >Код зоны</th>\n",
              "      <th class=\"col_heading level0 col2\" >Услуга международных звонков</th>\n",
              "      <th class=\"col_heading level0 col3\" >Услуга VMail</th>\n",
              "      <th class=\"col_heading level0 col4\" >Количество VMail</th>\n",
              "      <th class=\"col_heading level0 col5\" >Дневные минуты</th>\n",
              "      <th class=\"col_heading level0 col6\" >Дневные звонки</th>\n",
              "      <th class=\"col_heading level0 col7\" >Дневная оплата</th>\n",
              "      <th class=\"col_heading level0 col8\" >Вечерние минуты</th>\n",
              "      <th class=\"col_heading level0 col9\" >Вечерние звонки</th>\n",
              "      <th class=\"col_heading level0 col10\" >Вечерняя оплата</th>\n",
              "      <th class=\"col_heading level0 col11\" >Ночные минуты</th>\n",
              "      <th class=\"col_heading level0 col12\" >Ночные звонки</th>\n",
              "      <th class=\"col_heading level0 col13\" >Ночная оплата</th>\n",
              "      <th class=\"col_heading level0 col14\" >Международные минуты</th>\n",
              "      <th class=\"col_heading level0 col15\" >Международные звонки</th>\n",
              "      <th class=\"col_heading level0 col16\" >Международная оплата</th>\n",
              "      <th class=\"col_heading level0 col17\" >Обращений в СЦ</th>\n",
              "      <th class=\"col_heading level0 col18\" >Уход</th>\n",
              "    </tr>\n",
              "  </thead>\n",
              "  <tbody>\n",
              "    <tr>\n",
              "      <th id=\"T_e43a9_level0_row0\" class=\"row_heading level0 row0\" >Длина счета</th>\n",
              "      <td id=\"T_e43a9_row0_col0\" class=\"data row0 col0\" >1.000000</td>\n",
              "      <td id=\"T_e43a9_row0_col1\" class=\"data row0 col1\" >-0.012463</td>\n",
              "      <td id=\"T_e43a9_row0_col2\" class=\"data row0 col2\" >0.024735</td>\n",
              "      <td id=\"T_e43a9_row0_col3\" class=\"data row0 col3\" >0.002918</td>\n",
              "      <td id=\"T_e43a9_row0_col4\" class=\"data row0 col4\" >-0.004628</td>\n",
              "      <td id=\"T_e43a9_row0_col5\" class=\"data row0 col5\" >0.006216</td>\n",
              "      <td id=\"T_e43a9_row0_col6\" class=\"data row0 col6\" >0.038470</td>\n",
              "      <td id=\"T_e43a9_row0_col7\" class=\"data row0 col7\" >0.006214</td>\n",
              "      <td id=\"T_e43a9_row0_col8\" class=\"data row0 col8\" >-0.006757</td>\n",
              "      <td id=\"T_e43a9_row0_col9\" class=\"data row0 col9\" >0.019260</td>\n",
              "      <td id=\"T_e43a9_row0_col10\" class=\"data row0 col10\" >-0.006745</td>\n",
              "      <td id=\"T_e43a9_row0_col11\" class=\"data row0 col11\" >-0.008955</td>\n",
              "      <td id=\"T_e43a9_row0_col12\" class=\"data row0 col12\" >-0.013176</td>\n",
              "      <td id=\"T_e43a9_row0_col13\" class=\"data row0 col13\" >-0.008960</td>\n",
              "      <td id=\"T_e43a9_row0_col14\" class=\"data row0 col14\" >0.009514</td>\n",
              "      <td id=\"T_e43a9_row0_col15\" class=\"data row0 col15\" >0.020661</td>\n",
              "      <td id=\"T_e43a9_row0_col16\" class=\"data row0 col16\" >0.009546</td>\n",
              "      <td id=\"T_e43a9_row0_col17\" class=\"data row0 col17\" >-0.003796</td>\n",
              "      <td id=\"T_e43a9_row0_col18\" class=\"data row0 col18\" >0.016541</td>\n",
              "    </tr>\n",
              "    <tr>\n",
              "      <th id=\"T_e43a9_level0_row1\" class=\"row_heading level0 row1\" >Код зоны</th>\n",
              "      <td id=\"T_e43a9_row1_col0\" class=\"data row1 col0\" >-0.012463</td>\n",
              "      <td id=\"T_e43a9_row1_col1\" class=\"data row1 col1\" >1.000000</td>\n",
              "      <td id=\"T_e43a9_row1_col2\" class=\"data row1 col2\" >0.048551</td>\n",
              "      <td id=\"T_e43a9_row1_col3\" class=\"data row1 col3\" >-0.000747</td>\n",
              "      <td id=\"T_e43a9_row1_col4\" class=\"data row1 col4\" >-0.001994</td>\n",
              "      <td id=\"T_e43a9_row1_col5\" class=\"data row1 col5\" >-0.008264</td>\n",
              "      <td id=\"T_e43a9_row1_col6\" class=\"data row1 col6\" >-0.009646</td>\n",
              "      <td id=\"T_e43a9_row1_col7\" class=\"data row1 col7\" >-0.008264</td>\n",
              "      <td id=\"T_e43a9_row1_col8\" class=\"data row1 col8\" >0.003580</td>\n",
              "      <td id=\"T_e43a9_row1_col9\" class=\"data row1 col9\" >-0.011886</td>\n",
              "      <td id=\"T_e43a9_row1_col10\" class=\"data row1 col10\" >0.003607</td>\n",
              "      <td id=\"T_e43a9_row1_col11\" class=\"data row1 col11\" >-0.005825</td>\n",
              "      <td id=\"T_e43a9_row1_col12\" class=\"data row1 col12\" >0.016522</td>\n",
              "      <td id=\"T_e43a9_row1_col13\" class=\"data row1 col13\" >-0.005845</td>\n",
              "      <td id=\"T_e43a9_row1_col14\" class=\"data row1 col14\" >-0.018288</td>\n",
              "      <td id=\"T_e43a9_row1_col15\" class=\"data row1 col15\" >-0.024179</td>\n",
              "      <td id=\"T_e43a9_row1_col16\" class=\"data row1 col16\" >-0.018395</td>\n",
              "      <td id=\"T_e43a9_row1_col17\" class=\"data row1 col17\" >0.027572</td>\n",
              "      <td id=\"T_e43a9_row1_col18\" class=\"data row1 col18\" >0.006174</td>\n",
              "    </tr>\n",
              "    <tr>\n",
              "      <th id=\"T_e43a9_level0_row2\" class=\"row_heading level0 row2\" >Услуга международных звонков</th>\n",
              "      <td id=\"T_e43a9_row2_col0\" class=\"data row2 col0\" >0.024735</td>\n",
              "      <td id=\"T_e43a9_row2_col1\" class=\"data row2 col1\" >0.048551</td>\n",
              "      <td id=\"T_e43a9_row2_col2\" class=\"data row2 col2\" >1.000000</td>\n",
              "      <td id=\"T_e43a9_row2_col3\" class=\"data row2 col3\" >0.006006</td>\n",
              "      <td id=\"T_e43a9_row2_col4\" class=\"data row2 col4\" >0.008745</td>\n",
              "      <td id=\"T_e43a9_row2_col5\" class=\"data row2 col5\" >0.049396</td>\n",
              "      <td id=\"T_e43a9_row2_col6\" class=\"data row2 col6\" >0.003755</td>\n",
              "      <td id=\"T_e43a9_row2_col7\" class=\"data row2 col7\" >0.049398</td>\n",
              "      <td id=\"T_e43a9_row2_col8\" class=\"data row2 col8\" >0.019100</td>\n",
              "      <td id=\"T_e43a9_row2_col9\" class=\"data row2 col9\" >0.006114</td>\n",
              "      <td id=\"T_e43a9_row2_col10\" class=\"data row2 col10\" >0.019106</td>\n",
              "      <td id=\"T_e43a9_row2_col11\" class=\"data row2 col11\" >-0.028905</td>\n",
              "      <td id=\"T_e43a9_row2_col12\" class=\"data row2 col12\" >0.012451</td>\n",
              "      <td id=\"T_e43a9_row2_col13\" class=\"data row2 col13\" >-0.028913</td>\n",
              "      <td id=\"T_e43a9_row2_col14\" class=\"data row2 col14\" >0.045871</td>\n",
              "      <td id=\"T_e43a9_row2_col15\" class=\"data row2 col15\" >0.017366</td>\n",
              "      <td id=\"T_e43a9_row2_col16\" class=\"data row2 col16\" >0.045780</td>\n",
              "      <td id=\"T_e43a9_row2_col17\" class=\"data row2 col17\" >-0.024522</td>\n",
              "      <td id=\"T_e43a9_row2_col18\" class=\"data row2 col18\" >0.259852</td>\n",
              "    </tr>\n",
              "    <tr>\n",
              "      <th id=\"T_e43a9_level0_row3\" class=\"row_heading level0 row3\" >Услуга VMail</th>\n",
              "      <td id=\"T_e43a9_row3_col0\" class=\"data row3 col0\" >0.002918</td>\n",
              "      <td id=\"T_e43a9_row3_col1\" class=\"data row3 col1\" >-0.000747</td>\n",
              "      <td id=\"T_e43a9_row3_col2\" class=\"data row3 col2\" >0.006006</td>\n",
              "      <td id=\"T_e43a9_row3_col3\" class=\"data row3 col3\" >1.000000</td>\n",
              "      <td id=\"T_e43a9_row3_col4\" class=\"data row3 col4\" >0.956927</td>\n",
              "      <td id=\"T_e43a9_row3_col5\" class=\"data row3 col5\" >-0.001684</td>\n",
              "      <td id=\"T_e43a9_row3_col6\" class=\"data row3 col6\" >-0.011086</td>\n",
              "      <td id=\"T_e43a9_row3_col7\" class=\"data row3 col7\" >-0.001686</td>\n",
              "      <td id=\"T_e43a9_row3_col8\" class=\"data row3 col8\" >0.021545</td>\n",
              "      <td id=\"T_e43a9_row3_col9\" class=\"data row3 col9\" >-0.006444</td>\n",
              "      <td id=\"T_e43a9_row3_col10\" class=\"data row3 col10\" >0.021559</td>\n",
              "      <td id=\"T_e43a9_row3_col11\" class=\"data row3 col11\" >0.006079</td>\n",
              "      <td id=\"T_e43a9_row3_col12\" class=\"data row3 col12\" >0.015553</td>\n",
              "      <td id=\"T_e43a9_row3_col13\" class=\"data row3 col13\" >0.006064</td>\n",
              "      <td id=\"T_e43a9_row3_col14\" class=\"data row3 col14\" >-0.001318</td>\n",
              "      <td id=\"T_e43a9_row3_col15\" class=\"data row3 col15\" >0.007618</td>\n",
              "      <td id=\"T_e43a9_row3_col16\" class=\"data row3 col16\" >-0.001276</td>\n",
              "      <td id=\"T_e43a9_row3_col17\" class=\"data row3 col17\" >-0.017824</td>\n",
              "      <td id=\"T_e43a9_row3_col18\" class=\"data row3 col18\" >-0.102148</td>\n",
              "    </tr>\n",
              "    <tr>\n",
              "      <th id=\"T_e43a9_level0_row4\" class=\"row_heading level0 row4\" >Количество VMail</th>\n",
              "      <td id=\"T_e43a9_row4_col0\" class=\"data row4 col0\" >-0.004628</td>\n",
              "      <td id=\"T_e43a9_row4_col1\" class=\"data row4 col1\" >-0.001994</td>\n",
              "      <td id=\"T_e43a9_row4_col2\" class=\"data row4 col2\" >0.008745</td>\n",
              "      <td id=\"T_e43a9_row4_col3\" class=\"data row4 col3\" >0.956927</td>\n",
              "      <td id=\"T_e43a9_row4_col4\" class=\"data row4 col4\" >1.000000</td>\n",
              "      <td id=\"T_e43a9_row4_col5\" class=\"data row4 col5\" >0.000778</td>\n",
              "      <td id=\"T_e43a9_row4_col6\" class=\"data row4 col6\" >-0.009548</td>\n",
              "      <td id=\"T_e43a9_row4_col7\" class=\"data row4 col7\" >0.000776</td>\n",
              "      <td id=\"T_e43a9_row4_col8\" class=\"data row4 col8\" >0.017562</td>\n",
              "      <td id=\"T_e43a9_row4_col9\" class=\"data row4 col9\" >-0.005864</td>\n",
              "      <td id=\"T_e43a9_row4_col10\" class=\"data row4 col10\" >0.017578</td>\n",
              "      <td id=\"T_e43a9_row4_col11\" class=\"data row4 col11\" >0.007681</td>\n",
              "      <td id=\"T_e43a9_row4_col12\" class=\"data row4 col12\" >0.007123</td>\n",
              "      <td id=\"T_e43a9_row4_col13\" class=\"data row4 col13\" >0.007663</td>\n",
              "      <td id=\"T_e43a9_row4_col14\" class=\"data row4 col14\" >0.002856</td>\n",
              "      <td id=\"T_e43a9_row4_col15\" class=\"data row4 col15\" >0.013957</td>\n",
              "      <td id=\"T_e43a9_row4_col16\" class=\"data row4 col16\" >0.002884</td>\n",
              "      <td id=\"T_e43a9_row4_col17\" class=\"data row4 col17\" >-0.013263</td>\n",
              "      <td id=\"T_e43a9_row4_col18\" class=\"data row4 col18\" >-0.089728</td>\n",
              "    </tr>\n",
              "    <tr>\n",
              "      <th id=\"T_e43a9_level0_row5\" class=\"row_heading level0 row5\" >Дневные минуты</th>\n",
              "      <td id=\"T_e43a9_row5_col0\" class=\"data row5 col0\" >0.006216</td>\n",
              "      <td id=\"T_e43a9_row5_col1\" class=\"data row5 col1\" >-0.008264</td>\n",
              "      <td id=\"T_e43a9_row5_col2\" class=\"data row5 col2\" >0.049396</td>\n",
              "      <td id=\"T_e43a9_row5_col3\" class=\"data row5 col3\" >-0.001684</td>\n",
              "      <td id=\"T_e43a9_row5_col4\" class=\"data row5 col4\" >0.000778</td>\n",
              "      <td id=\"T_e43a9_row5_col5\" class=\"data row5 col5\" >1.000000</td>\n",
              "      <td id=\"T_e43a9_row5_col6\" class=\"data row5 col6\" >0.006750</td>\n",
              "      <td id=\"T_e43a9_row5_col7\" class=\"data row5 col7\" >1.000000</td>\n",
              "      <td id=\"T_e43a9_row5_col8\" class=\"data row5 col8\" >0.007043</td>\n",
              "      <td id=\"T_e43a9_row5_col9\" class=\"data row5 col9\" >0.015769</td>\n",
              "      <td id=\"T_e43a9_row5_col10\" class=\"data row5 col10\" >0.007029</td>\n",
              "      <td id=\"T_e43a9_row5_col11\" class=\"data row5 col11\" >0.004323</td>\n",
              "      <td id=\"T_e43a9_row5_col12\" class=\"data row5 col12\" >0.022972</td>\n",
              "      <td id=\"T_e43a9_row5_col13\" class=\"data row5 col13\" >0.004300</td>\n",
              "      <td id=\"T_e43a9_row5_col14\" class=\"data row5 col14\" >-0.010155</td>\n",
              "      <td id=\"T_e43a9_row5_col15\" class=\"data row5 col15\" >0.008033</td>\n",
              "      <td id=\"T_e43a9_row5_col16\" class=\"data row5 col16\" >-0.010092</td>\n",
              "      <td id=\"T_e43a9_row5_col17\" class=\"data row5 col17\" >-0.013423</td>\n",
              "      <td id=\"T_e43a9_row5_col18\" class=\"data row5 col18\" >0.205151</td>\n",
              "    </tr>\n",
              "    <tr>\n",
              "      <th id=\"T_e43a9_level0_row6\" class=\"row_heading level0 row6\" >Дневные звонки</th>\n",
              "      <td id=\"T_e43a9_row6_col0\" class=\"data row6 col0\" >0.038470</td>\n",
              "      <td id=\"T_e43a9_row6_col1\" class=\"data row6 col1\" >-0.009646</td>\n",
              "      <td id=\"T_e43a9_row6_col2\" class=\"data row6 col2\" >0.003755</td>\n",
              "      <td id=\"T_e43a9_row6_col3\" class=\"data row6 col3\" >-0.011086</td>\n",
              "      <td id=\"T_e43a9_row6_col4\" class=\"data row6 col4\" >-0.009548</td>\n",
              "      <td id=\"T_e43a9_row6_col5\" class=\"data row6 col5\" >0.006750</td>\n",
              "      <td id=\"T_e43a9_row6_col6\" class=\"data row6 col6\" >1.000000</td>\n",
              "      <td id=\"T_e43a9_row6_col7\" class=\"data row6 col7\" >0.006753</td>\n",
              "      <td id=\"T_e43a9_row6_col8\" class=\"data row6 col8\" >-0.021451</td>\n",
              "      <td id=\"T_e43a9_row6_col9\" class=\"data row6 col9\" >0.006462</td>\n",
              "      <td id=\"T_e43a9_row6_col10\" class=\"data row6 col10\" >-0.021449</td>\n",
              "      <td id=\"T_e43a9_row6_col11\" class=\"data row6 col11\" >0.022938</td>\n",
              "      <td id=\"T_e43a9_row6_col12\" class=\"data row6 col12\" >-0.019557</td>\n",
              "      <td id=\"T_e43a9_row6_col13\" class=\"data row6 col13\" >0.022927</td>\n",
              "      <td id=\"T_e43a9_row6_col14\" class=\"data row6 col14\" >0.021565</td>\n",
              "      <td id=\"T_e43a9_row6_col15\" class=\"data row6 col15\" >0.004574</td>\n",
              "      <td id=\"T_e43a9_row6_col16\" class=\"data row6 col16\" >0.021666</td>\n",
              "      <td id=\"T_e43a9_row6_col17\" class=\"data row6 col17\" >-0.018942</td>\n",
              "      <td id=\"T_e43a9_row6_col18\" class=\"data row6 col18\" >0.018459</td>\n",
              "    </tr>\n",
              "    <tr>\n",
              "      <th id=\"T_e43a9_level0_row7\" class=\"row_heading level0 row7\" >Дневная оплата</th>\n",
              "      <td id=\"T_e43a9_row7_col0\" class=\"data row7 col0\" >0.006214</td>\n",
              "      <td id=\"T_e43a9_row7_col1\" class=\"data row7 col1\" >-0.008264</td>\n",
              "      <td id=\"T_e43a9_row7_col2\" class=\"data row7 col2\" >0.049398</td>\n",
              "      <td id=\"T_e43a9_row7_col3\" class=\"data row7 col3\" >-0.001686</td>\n",
              "      <td id=\"T_e43a9_row7_col4\" class=\"data row7 col4\" >0.000776</td>\n",
              "      <td id=\"T_e43a9_row7_col5\" class=\"data row7 col5\" >1.000000</td>\n",
              "      <td id=\"T_e43a9_row7_col6\" class=\"data row7 col6\" >0.006753</td>\n",
              "      <td id=\"T_e43a9_row7_col7\" class=\"data row7 col7\" >1.000000</td>\n",
              "      <td id=\"T_e43a9_row7_col8\" class=\"data row7 col8\" >0.007050</td>\n",
              "      <td id=\"T_e43a9_row7_col9\" class=\"data row7 col9\" >0.015769</td>\n",
              "      <td id=\"T_e43a9_row7_col10\" class=\"data row7 col10\" >0.007036</td>\n",
              "      <td id=\"T_e43a9_row7_col11\" class=\"data row7 col11\" >0.004324</td>\n",
              "      <td id=\"T_e43a9_row7_col12\" class=\"data row7 col12\" >0.022972</td>\n",
              "      <td id=\"T_e43a9_row7_col13\" class=\"data row7 col13\" >0.004301</td>\n",
              "      <td id=\"T_e43a9_row7_col14\" class=\"data row7 col14\" >-0.010157</td>\n",
              "      <td id=\"T_e43a9_row7_col15\" class=\"data row7 col15\" >0.008032</td>\n",
              "      <td id=\"T_e43a9_row7_col16\" class=\"data row7 col16\" >-0.010094</td>\n",
              "      <td id=\"T_e43a9_row7_col17\" class=\"data row7 col17\" >-0.013427</td>\n",
              "      <td id=\"T_e43a9_row7_col18\" class=\"data row7 col18\" >0.205151</td>\n",
              "    </tr>\n",
              "    <tr>\n",
              "      <th id=\"T_e43a9_level0_row8\" class=\"row_heading level0 row8\" >Вечерние минуты</th>\n",
              "      <td id=\"T_e43a9_row8_col0\" class=\"data row8 col0\" >-0.006757</td>\n",
              "      <td id=\"T_e43a9_row8_col1\" class=\"data row8 col1\" >0.003580</td>\n",
              "      <td id=\"T_e43a9_row8_col2\" class=\"data row8 col2\" >0.019100</td>\n",
              "      <td id=\"T_e43a9_row8_col3\" class=\"data row8 col3\" >0.021545</td>\n",
              "      <td id=\"T_e43a9_row8_col4\" class=\"data row8 col4\" >0.017562</td>\n",
              "      <td id=\"T_e43a9_row8_col5\" class=\"data row8 col5\" >0.007043</td>\n",
              "      <td id=\"T_e43a9_row8_col6\" class=\"data row8 col6\" >-0.021451</td>\n",
              "      <td id=\"T_e43a9_row8_col7\" class=\"data row8 col7\" >0.007050</td>\n",
              "      <td id=\"T_e43a9_row8_col8\" class=\"data row8 col8\" >1.000000</td>\n",
              "      <td id=\"T_e43a9_row8_col9\" class=\"data row8 col9\" >-0.011430</td>\n",
              "      <td id=\"T_e43a9_row8_col10\" class=\"data row8 col10\" >1.000000</td>\n",
              "      <td id=\"T_e43a9_row8_col11\" class=\"data row8 col11\" >-0.012584</td>\n",
              "      <td id=\"T_e43a9_row8_col12\" class=\"data row8 col12\" >0.007586</td>\n",
              "      <td id=\"T_e43a9_row8_col13\" class=\"data row8 col13\" >-0.012593</td>\n",
              "      <td id=\"T_e43a9_row8_col14\" class=\"data row8 col14\" >-0.011035</td>\n",
              "      <td id=\"T_e43a9_row8_col15\" class=\"data row8 col15\" >0.002541</td>\n",
              "      <td id=\"T_e43a9_row8_col16\" class=\"data row8 col16\" >-0.011067</td>\n",
              "      <td id=\"T_e43a9_row8_col17\" class=\"data row8 col17\" >-0.012985</td>\n",
              "      <td id=\"T_e43a9_row8_col18\" class=\"data row8 col18\" >0.092796</td>\n",
              "    </tr>\n",
              "    <tr>\n",
              "      <th id=\"T_e43a9_level0_row9\" class=\"row_heading level0 row9\" >Вечерние звонки</th>\n",
              "      <td id=\"T_e43a9_row9_col0\" class=\"data row9 col0\" >0.019260</td>\n",
              "      <td id=\"T_e43a9_row9_col1\" class=\"data row9 col1\" >-0.011886</td>\n",
              "      <td id=\"T_e43a9_row9_col2\" class=\"data row9 col2\" >0.006114</td>\n",
              "      <td id=\"T_e43a9_row9_col3\" class=\"data row9 col3\" >-0.006444</td>\n",
              "      <td id=\"T_e43a9_row9_col4\" class=\"data row9 col4\" >-0.005864</td>\n",
              "      <td id=\"T_e43a9_row9_col5\" class=\"data row9 col5\" >0.015769</td>\n",
              "      <td id=\"T_e43a9_row9_col6\" class=\"data row9 col6\" >0.006462</td>\n",
              "      <td id=\"T_e43a9_row9_col7\" class=\"data row9 col7\" >0.015769</td>\n",
              "      <td id=\"T_e43a9_row9_col8\" class=\"data row9 col8\" >-0.011430</td>\n",
              "      <td id=\"T_e43a9_row9_col9\" class=\"data row9 col9\" >1.000000</td>\n",
              "      <td id=\"T_e43a9_row9_col10\" class=\"data row9 col10\" >-0.011423</td>\n",
              "      <td id=\"T_e43a9_row9_col11\" class=\"data row9 col11\" >-0.002093</td>\n",
              "      <td id=\"T_e43a9_row9_col12\" class=\"data row9 col12\" >0.007710</td>\n",
              "      <td id=\"T_e43a9_row9_col13\" class=\"data row9 col13\" >-0.002056</td>\n",
              "      <td id=\"T_e43a9_row9_col14\" class=\"data row9 col14\" >0.008703</td>\n",
              "      <td id=\"T_e43a9_row9_col15\" class=\"data row9 col15\" >0.017434</td>\n",
              "      <td id=\"T_e43a9_row9_col16\" class=\"data row9 col16\" >0.008674</td>\n",
              "      <td id=\"T_e43a9_row9_col17\" class=\"data row9 col17\" >0.002423</td>\n",
              "      <td id=\"T_e43a9_row9_col18\" class=\"data row9 col18\" >0.009233</td>\n",
              "    </tr>\n",
              "    <tr>\n",
              "      <th id=\"T_e43a9_level0_row10\" class=\"row_heading level0 row10\" >Вечерняя оплата</th>\n",
              "      <td id=\"T_e43a9_row10_col0\" class=\"data row10 col0\" >-0.006745</td>\n",
              "      <td id=\"T_e43a9_row10_col1\" class=\"data row10 col1\" >0.003607</td>\n",
              "      <td id=\"T_e43a9_row10_col2\" class=\"data row10 col2\" >0.019106</td>\n",
              "      <td id=\"T_e43a9_row10_col3\" class=\"data row10 col3\" >0.021559</td>\n",
              "      <td id=\"T_e43a9_row10_col4\" class=\"data row10 col4\" >0.017578</td>\n",
              "      <td id=\"T_e43a9_row10_col5\" class=\"data row10 col5\" >0.007029</td>\n",
              "      <td id=\"T_e43a9_row10_col6\" class=\"data row10 col6\" >-0.021449</td>\n",
              "      <td id=\"T_e43a9_row10_col7\" class=\"data row10 col7\" >0.007036</td>\n",
              "      <td id=\"T_e43a9_row10_col8\" class=\"data row10 col8\" >1.000000</td>\n",
              "      <td id=\"T_e43a9_row10_col9\" class=\"data row10 col9\" >-0.011423</td>\n",
              "      <td id=\"T_e43a9_row10_col10\" class=\"data row10 col10\" >1.000000</td>\n",
              "      <td id=\"T_e43a9_row10_col11\" class=\"data row10 col11\" >-0.012592</td>\n",
              "      <td id=\"T_e43a9_row10_col12\" class=\"data row10 col12\" >0.007596</td>\n",
              "      <td id=\"T_e43a9_row10_col13\" class=\"data row10 col13\" >-0.012601</td>\n",
              "      <td id=\"T_e43a9_row10_col14\" class=\"data row10 col14\" >-0.011043</td>\n",
              "      <td id=\"T_e43a9_row10_col15\" class=\"data row10 col15\" >0.002541</td>\n",
              "      <td id=\"T_e43a9_row10_col16\" class=\"data row10 col16\" >-0.011074</td>\n",
              "      <td id=\"T_e43a9_row10_col17\" class=\"data row10 col17\" >-0.012987</td>\n",
              "      <td id=\"T_e43a9_row10_col18\" class=\"data row10 col18\" >0.092786</td>\n",
              "    </tr>\n",
              "    <tr>\n",
              "      <th id=\"T_e43a9_level0_row11\" class=\"row_heading level0 row11\" >Ночные минуты</th>\n",
              "      <td id=\"T_e43a9_row11_col0\" class=\"data row11 col0\" >-0.008955</td>\n",
              "      <td id=\"T_e43a9_row11_col1\" class=\"data row11 col1\" >-0.005825</td>\n",
              "      <td id=\"T_e43a9_row11_col2\" class=\"data row11 col2\" >-0.028905</td>\n",
              "      <td id=\"T_e43a9_row11_col3\" class=\"data row11 col3\" >0.006079</td>\n",
              "      <td id=\"T_e43a9_row11_col4\" class=\"data row11 col4\" >0.007681</td>\n",
              "      <td id=\"T_e43a9_row11_col5\" class=\"data row11 col5\" >0.004323</td>\n",
              "      <td id=\"T_e43a9_row11_col6\" class=\"data row11 col6\" >0.022938</td>\n",
              "      <td id=\"T_e43a9_row11_col7\" class=\"data row11 col7\" >0.004324</td>\n",
              "      <td id=\"T_e43a9_row11_col8\" class=\"data row11 col8\" >-0.012584</td>\n",
              "      <td id=\"T_e43a9_row11_col9\" class=\"data row11 col9\" >-0.002093</td>\n",
              "      <td id=\"T_e43a9_row11_col10\" class=\"data row11 col10\" >-0.012592</td>\n",
              "      <td id=\"T_e43a9_row11_col11\" class=\"data row11 col11\" >1.000000</td>\n",
              "      <td id=\"T_e43a9_row11_col12\" class=\"data row11 col12\" >0.011204</td>\n",
              "      <td id=\"T_e43a9_row11_col13\" class=\"data row11 col13\" >0.999999</td>\n",
              "      <td id=\"T_e43a9_row11_col14\" class=\"data row11 col14\" >-0.015207</td>\n",
              "      <td id=\"T_e43a9_row11_col15\" class=\"data row11 col15\" >-0.012353</td>\n",
              "      <td id=\"T_e43a9_row11_col16\" class=\"data row11 col16\" >-0.015180</td>\n",
              "      <td id=\"T_e43a9_row11_col17\" class=\"data row11 col17\" >-0.009288</td>\n",
              "      <td id=\"T_e43a9_row11_col18\" class=\"data row11 col18\" >0.035493</td>\n",
              "    </tr>\n",
              "    <tr>\n",
              "      <th id=\"T_e43a9_level0_row12\" class=\"row_heading level0 row12\" >Ночные звонки</th>\n",
              "      <td id=\"T_e43a9_row12_col0\" class=\"data row12 col0\" >-0.013176</td>\n",
              "      <td id=\"T_e43a9_row12_col1\" class=\"data row12 col1\" >0.016522</td>\n",
              "      <td id=\"T_e43a9_row12_col2\" class=\"data row12 col2\" >0.012451</td>\n",
              "      <td id=\"T_e43a9_row12_col3\" class=\"data row12 col3\" >0.015553</td>\n",
              "      <td id=\"T_e43a9_row12_col4\" class=\"data row12 col4\" >0.007123</td>\n",
              "      <td id=\"T_e43a9_row12_col5\" class=\"data row12 col5\" >0.022972</td>\n",
              "      <td id=\"T_e43a9_row12_col6\" class=\"data row12 col6\" >-0.019557</td>\n",
              "      <td id=\"T_e43a9_row12_col7\" class=\"data row12 col7\" >0.022972</td>\n",
              "      <td id=\"T_e43a9_row12_col8\" class=\"data row12 col8\" >0.007586</td>\n",
              "      <td id=\"T_e43a9_row12_col9\" class=\"data row12 col9\" >0.007710</td>\n",
              "      <td id=\"T_e43a9_row12_col10\" class=\"data row12 col10\" >0.007596</td>\n",
              "      <td id=\"T_e43a9_row12_col11\" class=\"data row12 col11\" >0.011204</td>\n",
              "      <td id=\"T_e43a9_row12_col12\" class=\"data row12 col12\" >1.000000</td>\n",
              "      <td id=\"T_e43a9_row12_col13\" class=\"data row12 col13\" >0.011188</td>\n",
              "      <td id=\"T_e43a9_row12_col14\" class=\"data row12 col14\" >-0.013605</td>\n",
              "      <td id=\"T_e43a9_row12_col15\" class=\"data row12 col15\" >0.000305</td>\n",
              "      <td id=\"T_e43a9_row12_col16\" class=\"data row12 col16\" >-0.013630</td>\n",
              "      <td id=\"T_e43a9_row12_col17\" class=\"data row12 col17\" >-0.012802</td>\n",
              "      <td id=\"T_e43a9_row12_col18\" class=\"data row12 col18\" >0.006141</td>\n",
              "    </tr>\n",
              "    <tr>\n",
              "      <th id=\"T_e43a9_level0_row13\" class=\"row_heading level0 row13\" >Ночная оплата</th>\n",
              "      <td id=\"T_e43a9_row13_col0\" class=\"data row13 col0\" >-0.008960</td>\n",
              "      <td id=\"T_e43a9_row13_col1\" class=\"data row13 col1\" >-0.005845</td>\n",
              "      <td id=\"T_e43a9_row13_col2\" class=\"data row13 col2\" >-0.028913</td>\n",
              "      <td id=\"T_e43a9_row13_col3\" class=\"data row13 col3\" >0.006064</td>\n",
              "      <td id=\"T_e43a9_row13_col4\" class=\"data row13 col4\" >0.007663</td>\n",
              "      <td id=\"T_e43a9_row13_col5\" class=\"data row13 col5\" >0.004300</td>\n",
              "      <td id=\"T_e43a9_row13_col6\" class=\"data row13 col6\" >0.022927</td>\n",
              "      <td id=\"T_e43a9_row13_col7\" class=\"data row13 col7\" >0.004301</td>\n",
              "      <td id=\"T_e43a9_row13_col8\" class=\"data row13 col8\" >-0.012593</td>\n",
              "      <td id=\"T_e43a9_row13_col9\" class=\"data row13 col9\" >-0.002056</td>\n",
              "      <td id=\"T_e43a9_row13_col10\" class=\"data row13 col10\" >-0.012601</td>\n",
              "      <td id=\"T_e43a9_row13_col11\" class=\"data row13 col11\" >0.999999</td>\n",
              "      <td id=\"T_e43a9_row13_col12\" class=\"data row13 col12\" >0.011188</td>\n",
              "      <td id=\"T_e43a9_row13_col13\" class=\"data row13 col13\" >1.000000</td>\n",
              "      <td id=\"T_e43a9_row13_col14\" class=\"data row13 col14\" >-0.015214</td>\n",
              "      <td id=\"T_e43a9_row13_col15\" class=\"data row13 col15\" >-0.012329</td>\n",
              "      <td id=\"T_e43a9_row13_col16\" class=\"data row13 col16\" >-0.015186</td>\n",
              "      <td id=\"T_e43a9_row13_col17\" class=\"data row13 col17\" >-0.009277</td>\n",
              "      <td id=\"T_e43a9_row13_col18\" class=\"data row13 col18\" >0.035496</td>\n",
              "    </tr>\n",
              "    <tr>\n",
              "      <th id=\"T_e43a9_level0_row14\" class=\"row_heading level0 row14\" >Международные минуты</th>\n",
              "      <td id=\"T_e43a9_row14_col0\" class=\"data row14 col0\" >0.009514</td>\n",
              "      <td id=\"T_e43a9_row14_col1\" class=\"data row14 col1\" >-0.018288</td>\n",
              "      <td id=\"T_e43a9_row14_col2\" class=\"data row14 col2\" >0.045871</td>\n",
              "      <td id=\"T_e43a9_row14_col3\" class=\"data row14 col3\" >-0.001318</td>\n",
              "      <td id=\"T_e43a9_row14_col4\" class=\"data row14 col4\" >0.002856</td>\n",
              "      <td id=\"T_e43a9_row14_col5\" class=\"data row14 col5\" >-0.010155</td>\n",
              "      <td id=\"T_e43a9_row14_col6\" class=\"data row14 col6\" >0.021565</td>\n",
              "      <td id=\"T_e43a9_row14_col7\" class=\"data row14 col7\" >-0.010157</td>\n",
              "      <td id=\"T_e43a9_row14_col8\" class=\"data row14 col8\" >-0.011035</td>\n",
              "      <td id=\"T_e43a9_row14_col9\" class=\"data row14 col9\" >0.008703</td>\n",
              "      <td id=\"T_e43a9_row14_col10\" class=\"data row14 col10\" >-0.011043</td>\n",
              "      <td id=\"T_e43a9_row14_col11\" class=\"data row14 col11\" >-0.015207</td>\n",
              "      <td id=\"T_e43a9_row14_col12\" class=\"data row14 col12\" >-0.013605</td>\n",
              "      <td id=\"T_e43a9_row14_col13\" class=\"data row14 col13\" >-0.015214</td>\n",
              "      <td id=\"T_e43a9_row14_col14\" class=\"data row14 col14\" >1.000000</td>\n",
              "      <td id=\"T_e43a9_row14_col15\" class=\"data row14 col15\" >0.032304</td>\n",
              "      <td id=\"T_e43a9_row14_col16\" class=\"data row14 col16\" >0.999993</td>\n",
              "      <td id=\"T_e43a9_row14_col17\" class=\"data row14 col17\" >-0.009640</td>\n",
              "      <td id=\"T_e43a9_row14_col18\" class=\"data row14 col18\" >0.068239</td>\n",
              "    </tr>\n",
              "    <tr>\n",
              "      <th id=\"T_e43a9_level0_row15\" class=\"row_heading level0 row15\" >Международные звонки</th>\n",
              "      <td id=\"T_e43a9_row15_col0\" class=\"data row15 col0\" >0.020661</td>\n",
              "      <td id=\"T_e43a9_row15_col1\" class=\"data row15 col1\" >-0.024179</td>\n",
              "      <td id=\"T_e43a9_row15_col2\" class=\"data row15 col2\" >0.017366</td>\n",
              "      <td id=\"T_e43a9_row15_col3\" class=\"data row15 col3\" >0.007618</td>\n",
              "      <td id=\"T_e43a9_row15_col4\" class=\"data row15 col4\" >0.013957</td>\n",
              "      <td id=\"T_e43a9_row15_col5\" class=\"data row15 col5\" >0.008033</td>\n",
              "      <td id=\"T_e43a9_row15_col6\" class=\"data row15 col6\" >0.004574</td>\n",
              "      <td id=\"T_e43a9_row15_col7\" class=\"data row15 col7\" >0.008032</td>\n",
              "      <td id=\"T_e43a9_row15_col8\" class=\"data row15 col8\" >0.002541</td>\n",
              "      <td id=\"T_e43a9_row15_col9\" class=\"data row15 col9\" >0.017434</td>\n",
              "      <td id=\"T_e43a9_row15_col10\" class=\"data row15 col10\" >0.002541</td>\n",
              "      <td id=\"T_e43a9_row15_col11\" class=\"data row15 col11\" >-0.012353</td>\n",
              "      <td id=\"T_e43a9_row15_col12\" class=\"data row15 col12\" >0.000305</td>\n",
              "      <td id=\"T_e43a9_row15_col13\" class=\"data row15 col13\" >-0.012329</td>\n",
              "      <td id=\"T_e43a9_row15_col14\" class=\"data row15 col14\" >0.032304</td>\n",
              "      <td id=\"T_e43a9_row15_col15\" class=\"data row15 col15\" >1.000000</td>\n",
              "      <td id=\"T_e43a9_row15_col16\" class=\"data row15 col16\" >0.032372</td>\n",
              "      <td id=\"T_e43a9_row15_col17\" class=\"data row15 col17\" >-0.017561</td>\n",
              "      <td id=\"T_e43a9_row15_col18\" class=\"data row15 col18\" >-0.052844</td>\n",
              "    </tr>\n",
              "    <tr>\n",
              "      <th id=\"T_e43a9_level0_row16\" class=\"row_heading level0 row16\" >Международная оплата</th>\n",
              "      <td id=\"T_e43a9_row16_col0\" class=\"data row16 col0\" >0.009546</td>\n",
              "      <td id=\"T_e43a9_row16_col1\" class=\"data row16 col1\" >-0.018395</td>\n",
              "      <td id=\"T_e43a9_row16_col2\" class=\"data row16 col2\" >0.045780</td>\n",
              "      <td id=\"T_e43a9_row16_col3\" class=\"data row16 col3\" >-0.001276</td>\n",
              "      <td id=\"T_e43a9_row16_col4\" class=\"data row16 col4\" >0.002884</td>\n",
              "      <td id=\"T_e43a9_row16_col5\" class=\"data row16 col5\" >-0.010092</td>\n",
              "      <td id=\"T_e43a9_row16_col6\" class=\"data row16 col6\" >0.021666</td>\n",
              "      <td id=\"T_e43a9_row16_col7\" class=\"data row16 col7\" >-0.010094</td>\n",
              "      <td id=\"T_e43a9_row16_col8\" class=\"data row16 col8\" >-0.011067</td>\n",
              "      <td id=\"T_e43a9_row16_col9\" class=\"data row16 col9\" >0.008674</td>\n",
              "      <td id=\"T_e43a9_row16_col10\" class=\"data row16 col10\" >-0.011074</td>\n",
              "      <td id=\"T_e43a9_row16_col11\" class=\"data row16 col11\" >-0.015180</td>\n",
              "      <td id=\"T_e43a9_row16_col12\" class=\"data row16 col12\" >-0.013630</td>\n",
              "      <td id=\"T_e43a9_row16_col13\" class=\"data row16 col13\" >-0.015186</td>\n",
              "      <td id=\"T_e43a9_row16_col14\" class=\"data row16 col14\" >0.999993</td>\n",
              "      <td id=\"T_e43a9_row16_col15\" class=\"data row16 col15\" >0.032372</td>\n",
              "      <td id=\"T_e43a9_row16_col16\" class=\"data row16 col16\" >1.000000</td>\n",
              "      <td id=\"T_e43a9_row16_col17\" class=\"data row16 col17\" >-0.009675</td>\n",
              "      <td id=\"T_e43a9_row16_col18\" class=\"data row16 col18\" >0.068259</td>\n",
              "    </tr>\n",
              "    <tr>\n",
              "      <th id=\"T_e43a9_level0_row17\" class=\"row_heading level0 row17\" >Обращений в СЦ</th>\n",
              "      <td id=\"T_e43a9_row17_col0\" class=\"data row17 col0\" >-0.003796</td>\n",
              "      <td id=\"T_e43a9_row17_col1\" class=\"data row17 col1\" >0.027572</td>\n",
              "      <td id=\"T_e43a9_row17_col2\" class=\"data row17 col2\" >-0.024522</td>\n",
              "      <td id=\"T_e43a9_row17_col3\" class=\"data row17 col3\" >-0.017824</td>\n",
              "      <td id=\"T_e43a9_row17_col4\" class=\"data row17 col4\" >-0.013263</td>\n",
              "      <td id=\"T_e43a9_row17_col5\" class=\"data row17 col5\" >-0.013423</td>\n",
              "      <td id=\"T_e43a9_row17_col6\" class=\"data row17 col6\" >-0.018942</td>\n",
              "      <td id=\"T_e43a9_row17_col7\" class=\"data row17 col7\" >-0.013427</td>\n",
              "      <td id=\"T_e43a9_row17_col8\" class=\"data row17 col8\" >-0.012985</td>\n",
              "      <td id=\"T_e43a9_row17_col9\" class=\"data row17 col9\" >0.002423</td>\n",
              "      <td id=\"T_e43a9_row17_col10\" class=\"data row17 col10\" >-0.012987</td>\n",
              "      <td id=\"T_e43a9_row17_col11\" class=\"data row17 col11\" >-0.009288</td>\n",
              "      <td id=\"T_e43a9_row17_col12\" class=\"data row17 col12\" >-0.012802</td>\n",
              "      <td id=\"T_e43a9_row17_col13\" class=\"data row17 col13\" >-0.009277</td>\n",
              "      <td id=\"T_e43a9_row17_col14\" class=\"data row17 col14\" >-0.009640</td>\n",
              "      <td id=\"T_e43a9_row17_col15\" class=\"data row17 col15\" >-0.017561</td>\n",
              "      <td id=\"T_e43a9_row17_col16\" class=\"data row17 col16\" >-0.009675</td>\n",
              "      <td id=\"T_e43a9_row17_col17\" class=\"data row17 col17\" >1.000000</td>\n",
              "      <td id=\"T_e43a9_row17_col18\" class=\"data row17 col18\" >0.208750</td>\n",
              "    </tr>\n",
              "    <tr>\n",
              "      <th id=\"T_e43a9_level0_row18\" class=\"row_heading level0 row18\" >Уход</th>\n",
              "      <td id=\"T_e43a9_row18_col0\" class=\"data row18 col0\" >0.016541</td>\n",
              "      <td id=\"T_e43a9_row18_col1\" class=\"data row18 col1\" >0.006174</td>\n",
              "      <td id=\"T_e43a9_row18_col2\" class=\"data row18 col2\" >0.259852</td>\n",
              "      <td id=\"T_e43a9_row18_col3\" class=\"data row18 col3\" >-0.102148</td>\n",
              "      <td id=\"T_e43a9_row18_col4\" class=\"data row18 col4\" >-0.089728</td>\n",
              "      <td id=\"T_e43a9_row18_col5\" class=\"data row18 col5\" >0.205151</td>\n",
              "      <td id=\"T_e43a9_row18_col6\" class=\"data row18 col6\" >0.018459</td>\n",
              "      <td id=\"T_e43a9_row18_col7\" class=\"data row18 col7\" >0.205151</td>\n",
              "      <td id=\"T_e43a9_row18_col8\" class=\"data row18 col8\" >0.092796</td>\n",
              "      <td id=\"T_e43a9_row18_col9\" class=\"data row18 col9\" >0.009233</td>\n",
              "      <td id=\"T_e43a9_row18_col10\" class=\"data row18 col10\" >0.092786</td>\n",
              "      <td id=\"T_e43a9_row18_col11\" class=\"data row18 col11\" >0.035493</td>\n",
              "      <td id=\"T_e43a9_row18_col12\" class=\"data row18 col12\" >0.006141</td>\n",
              "      <td id=\"T_e43a9_row18_col13\" class=\"data row18 col13\" >0.035496</td>\n",
              "      <td id=\"T_e43a9_row18_col14\" class=\"data row18 col14\" >0.068239</td>\n",
              "      <td id=\"T_e43a9_row18_col15\" class=\"data row18 col15\" >-0.052844</td>\n",
              "      <td id=\"T_e43a9_row18_col16\" class=\"data row18 col16\" >0.068259</td>\n",
              "      <td id=\"T_e43a9_row18_col17\" class=\"data row18 col17\" >0.208750</td>\n",
              "      <td id=\"T_e43a9_row18_col18\" class=\"data row18 col18\" >1.000000</td>\n",
              "    </tr>\n",
              "  </tbody>\n",
              "</table>\n"
            ],
            "text/plain": [
              "<pandas.io.formats.style.Styler at 0x7f0279e0dbd0>"
            ]
          },
          "metadata": {},
          "execution_count": 552
        }
      ]
    },
    {
      "cell_type": "markdown",
      "source": [
        "<h1><b> Factors related to customer churn</h1>"
      ],
      "metadata": {
        "id": "IIKA3fA-ogvR"
      }
    },
    {
      "cell_type": "code",
      "source": [
        "# Distribution plot of frequency\n",
        "\n",
        "#Turn Churn into numerical value\n",
        "df['Уход'] = df['Уход'].replace({bool(True):1,bool(False):0})\n",
        "\n",
        "#Plot\n",
        "fig, ax = plt.subplots(figsize=(10,10))\n",
        "pd.DataFrame.hist(df,ax=ax)\n",
        "plt.tight_layout()\n",
        "plt.show()"
      ],
      "metadata": {
        "colab": {
          "base_uri": "https://localhost:8080/",
          "height": 783
        },
        "id": "E-0roCRqxaWR",
        "outputId": "916d06a1-ef4c-44b1-be89-72827ac08a85"
      },
      "execution_count": null,
      "outputs": [
        {
          "output_type": "stream",
          "name": "stderr",
          "text": [
            "/usr/local/lib/python3.7/dist-packages/ipykernel_launcher.py:8: UserWarning: To output multiple subplots, the figure containing the passed axes is being cleared\n",
            "  \n"
          ]
        },
        {
          "output_type": "display_data",
          "data": {
            "image/png": "[encoded data removed]",
            "text/plain": [
              "<Figure size 720x720 with 20 Axes>"
            ]
          },
          "metadata": {
            "needs_background": "light"
          }
        }
      ]
    },
    {
      "cell_type": "markdown",
      "source": [
        ""
      ],
      "metadata": {
        "id": "yiRPc_FOw9lE"
      }
    },
    {
      "cell_type": "code",
      "source": [
        "# Does State affect the churn?\n",
        "fig, ax = plt.subplots(figsize=(20,15))\n",
        "\n",
        "ax = sns.countplot(x='Штат', hue='Уход', data=df)\n",
        "\n",
        "\n",
        "ax.set_xlabel('Штаты', size=20)\n",
        "ax.yaxis.set_label_coords(0.1, 0.9) \n",
        "ax.set_ylabel('Количество пользователей')\n",
        "ax.legend(['Остались', 'Ушли'],loc=0,fontsize=20);\n",
        "\n",
        "ax.tick_params(labelsize=15)\n",
        "\n"
      ],
      "metadata": {
        "colab": {
          "base_uri": "https://localhost:8080/",
          "height": 663
        },
        "id": "XyJn9IfKwqif",
        "outputId": "001dbe7f-b1d1-4e51-81a7-4f36a2518204"
      },
      "execution_count": null,
      "outputs": [
        {
          "output_type": "display_data",
          "data": {
            "image/png": "[encoded data removed]",
            "text/plain": [
              "<Figure size 1440x1080 with 1 Axes>"
            ]
          },
          "metadata": {
            "needs_background": "light"
          }
        }
      ]
    },
    {
      "cell_type": "code",
      "source": [
        "#Calls to service center vs Churn\n",
        "\n",
        "fig, ax = plt.subplots(figsize=(10,5))\n",
        "\n",
        "ax = sns.countplot(x='Обращений в СЦ', hue='Уход', data=df)\n",
        "\n",
        "\n",
        "ax.set_xlabel('Обращений в СЦ', size=10)\n",
        "ax.set_ylabel('Количество пользователей', rotation=90)\n",
        "ax.legend(['Остались', 'Ушли'],loc=0,fontsize=10);\n",
        "\n",
        "ax.tick_params(labelsize=15)\n",
        "\n",
        "\n"
      ],
      "metadata": {
        "colab": {
          "base_uri": "https://localhost:8080/",
          "height": 339
        },
        "id": "HkPLYv0eIrcS",
        "outputId": "e760e7c0-af0e-472b-a21a-d7a34ec0d0fe"
      },
      "execution_count": null,
      "outputs": [
        {
          "output_type": "display_data",
          "data": {
            "image/png": "[encoded data removed]",
            "text/plain": [
              "<Figure size 720x360 with 1 Axes>"
            ]
          },
          "metadata": {
            "needs_background": "light"
          }
        }
      ]
    },
    {
      "cell_type": "code",
      "source": [
        "''' Dropping columns:\n",
        "  Phone number (Номер телефона)= since each row is unique, no need to keep phone numbers\n",
        "  Длина счета, Код зоны - very small correlation \n",
        "   '''\n",
        "\n",
        "df = df.drop(['Номер телефона', 'Длина счета', 'Код зоны', 'Штат'], axis=1)"
      ],
      "metadata": {
        "id": "D45MTEdIPG1o"
      },
      "execution_count": null,
      "outputs": []
    },
    {
      "cell_type": "code",
      "source": [
        "# calculate the correlation matrix\n",
        "corr = df.corr()\n",
        "\n",
        "# plot the heatmap\n",
        "fig = plt.figure(figsize=(5,4))\n",
        "sns.heatmap(corr, \n",
        "        xticklabels=corr.columns,\n",
        "        yticklabels=corr.columns,\n",
        "            linewidths=.75)"
      ],
      "metadata": {
        "colab": {
          "base_uri": "https://localhost:8080/",
          "height": 447
        },
        "id": "FGcQDiQnil_n",
        "outputId": "ea6377ee-b9a7-49f0-f02a-9b5262adc02c"
      },
      "execution_count": null,
      "outputs": [
        {
          "output_type": "execute_result",
          "data": {
            "text/plain": [
              "<matplotlib.axes._subplots.AxesSubplot at 0x7f0278dc5e90>"
            ]
          },
          "metadata": {},
          "execution_count": 557
        },
        {
          "output_type": "display_data",
          "data": {
            "image/png": "[encoded data removed]",
            "text/plain": [
              "<Figure size 360x288 with 2 Axes>"
            ]
          },
          "metadata": {
            "needs_background": "light"
          }
        }
      ]
    },
    {
      "cell_type": "markdown",
      "source": [
        "Data Scaling and Normalization"
      ],
      "metadata": {
        "id": "7YzkKG1RQi3S"
      }
    },
    {
      "cell_type": "code",
      "source": [
        "#Normalization\n",
        "X = df.iloc[:,0:16].values\n",
        "y = df.iloc[:,16].values\n"
      ],
      "metadata": {
        "id": "KVSF-ciBi_w2"
      },
      "execution_count": null,
      "outputs": []
    },
    {
      "cell_type": "code",
      "source": [
        "X = df.iloc[:,0:16].values\n",
        "y = df.iloc[:,16].values"
      ],
      "metadata": {
        "id": "iv3P0syClljE"
      },
      "execution_count": null,
      "outputs": []
    },
    {
      "cell_type": "code",
      "source": [
        "from sklearn.model_selection import train_test_split\n",
        "\n",
        "X_train, X_test, y_train, y_test = train_test_split(\n",
        "X, y, test_size=0.3 , random_state=0)\n",
        "\n",
        "X_train.shape, y_train.shape, X_test.shape , y_test.shape"
      ],
      "metadata": {
        "colab": {
          "base_uri": "https://localhost:8080/"
        },
        "id": "hECV2Yubl0cQ",
        "outputId": "92743e76-7b29-4c6d-8592-decf419358c6"
      },
      "execution_count": null,
      "outputs": [
        {
          "output_type": "execute_result",
          "data": {
            "text/plain": [
              "((2333, 16), (2333,), (1000, 16), (1000,))"
            ]
          },
          "metadata": {},
          "execution_count": 560
        }
      ]
    },
    {
      "cell_type": "markdown",
      "source": [
        "SMOTE"
      ],
      "metadata": {
        "id": "XdLRf2nOoXc-"
      }
    },
    {
      "cell_type": "code",
      "source": [
        "#check first\n",
        "import collections\n",
        "collections.Counter(y_train)"
      ],
      "metadata": {
        "colab": {
          "base_uri": "https://localhost:8080/"
        },
        "id": "YA70pZkeojO2",
        "outputId": "b60e9b20-d397-4916-b990-1fe74e82ae93"
      },
      "execution_count": null,
      "outputs": [
        {
          "output_type": "execute_result",
          "data": {
            "text/plain": [
              "Counter({0: 1988, 1: 345})"
            ]
          },
          "metadata": {},
          "execution_count": 561
        }
      ]
    },
    {
      "cell_type": "code",
      "source": [
        "from imblearn.over_sampling import SMOTE\n",
        "sm = SMOTE(random_state=0, k_neighbors=5)\n",
        "X_train_res, y_train_res = sm.fit_resample(X_train, y_train)\n",
        "\n"
      ],
      "metadata": {
        "id": "tomUL23UmDRT"
      },
      "execution_count": null,
      "outputs": []
    },
    {
      "cell_type": "code",
      "source": [
        "#after SMOTE\n",
        "collections.Counter(y_train_res)"
      ],
      "metadata": {
        "colab": {
          "base_uri": "https://localhost:8080/"
        },
        "id": "U1kjw3lfoaQf",
        "outputId": "4b76aa65-aa15-4953-ccaf-82f307c0be21"
      },
      "execution_count": null,
      "outputs": [
        {
          "output_type": "execute_result",
          "data": {
            "text/plain": [
              "Counter({0: 1988, 1: 1988})"
            ]
          },
          "metadata": {},
          "execution_count": 563
        }
      ]
    },
    {
      "cell_type": "markdown",
      "source": [
        "<h1></b>Predictions</h1>\n"
      ],
      "metadata": {
        "id": "iDdaTO0borUT"
      }
    },
    {
      "cell_type": "code",
      "source": [
        "tk=DecisionTreeClassifier(random_state=16)"
      ],
      "metadata": {
        "id": "B1z3uJdxoqSq"
      },
      "execution_count": null,
      "outputs": []
    },
    {
      "cell_type": "code",
      "source": [
        "tk.fit(X_train, y_train)"
      ],
      "metadata": {
        "colab": {
          "base_uri": "https://localhost:8080/"
        },
        "id": "JPwt9JaopWua",
        "outputId": "5eae0dfa-bd26-4786-e92f-8cd5e54da35f"
      },
      "execution_count": null,
      "outputs": [
        {
          "output_type": "execute_result",
          "data": {
            "text/plain": [
              "DecisionTreeClassifier(random_state=16)"
            ]
          },
          "metadata": {},
          "execution_count": 565
        }
      ]
    },
    {
      "cell_type": "code",
      "source": [
        "pre_valid=tk.predict(X_test)\n",
        "pre_valid.shape,y_test.shape"
      ],
      "metadata": {
        "colab": {
          "base_uri": "https://localhost:8080/"
        },
        "id": "YUm56ZPNpnt8",
        "outputId": "b14753ba-d986-4fa9-f4f3-7894709e1b87"
      },
      "execution_count": null,
      "outputs": [
        {
          "output_type": "execute_result",
          "data": {
            "text/plain": [
              "((1000,), (1000,))"
            ]
          },
          "metadata": {},
          "execution_count": 566
        }
      ]
    },
    {
      "cell_type": "code",
      "source": [
        "Kfold= StratifiedKFold(n_splits=5,shuffle=True,random_state=16)"
      ],
      "metadata": {
        "id": "351By7I46zTy"
      },
      "execution_count": null,
      "outputs": []
    },
    {
      "cell_type": "code",
      "source": [
        "parameters = {'max_depth': np.arange(2,11),'min_samples_leaf': np.arange(1,11)}\n",
        "ct_best = GridSearchCV(estimator=tk,param_grid=parameters,cv=Kfold,n_jobs=-1,verbose=1)"
      ],
      "metadata": {
        "id": "OxRniVtfpyGO"
      },
      "execution_count": null,
      "outputs": []
    },
    {
      "cell_type": "code",
      "source": [
        "ct_best.fit(X_train,y_train)"
      ],
      "metadata": {
        "colab": {
          "base_uri": "https://localhost:8080/"
        },
        "id": "V8juBzz46pgj",
        "outputId": "7f06891b-215f-4355-dd1d-63253e7f5c69"
      },
      "execution_count": null,
      "outputs": [
        {
          "output_type": "stream",
          "name": "stdout",
          "text": [
            "Fitting 5 folds for each of 90 candidates, totalling 450 fits\n"
          ]
        },
        {
          "output_type": "execute_result",
          "data": {
            "text/plain": [
              "GridSearchCV(cv=StratifiedKFold(n_splits=5, random_state=16, shuffle=True),\n",
              "             estimator=DecisionTreeClassifier(random_state=16), n_jobs=-1,\n",
              "             param_grid={'max_depth': array([ 2,  3,  4,  5,  6,  7,  8,  9, 10]),\n",
              "                         'min_samples_leaf': array([ 1,  2,  3,  4,  5,  6,  7,  8,  9, 10])},\n",
              "             verbose=1)"
            ]
          },
          "metadata": {},
          "execution_count": 569
        }
      ]
    },
    {
      "cell_type": "code",
      "source": [
        "ct_best.best_params_"
      ],
      "metadata": {
        "colab": {
          "base_uri": "https://localhost:8080/"
        },
        "id": "10VH8SxU655M",
        "outputId": "a4018b59-551f-4126-c213-5d3f6812a3d4"
      },
      "execution_count": null,
      "outputs": [
        {
          "output_type": "execute_result",
          "data": {
            "text/plain": [
              "{'max_depth': 8, 'min_samples_leaf': 6}"
            ]
          },
          "metadata": {},
          "execution_count": 570
        }
      ]
    },
    {
      "cell_type": "code",
      "source": [
        "ct_best.best_estimator_"
      ],
      "metadata": {
        "colab": {
          "base_uri": "https://localhost:8080/"
        },
        "id": "m30DrwBS6-7m",
        "outputId": "0cafe1fa-8246-4669-a531-bb5ef30a11a0"
      },
      "execution_count": null,
      "outputs": [
        {
          "output_type": "execute_result",
          "data": {
            "text/plain": [
              "DecisionTreeClassifier(max_depth=8, min_samples_leaf=6, random_state=16)"
            ]
          },
          "metadata": {},
          "execution_count": 571
        }
      ]
    },
    {
      "cell_type": "code",
      "source": [
        "ct_best.best_score_"
      ],
      "metadata": {
        "colab": {
          "base_uri": "https://localhost:8080/"
        },
        "id": "Prh_g0Gf7BDG",
        "outputId": "69e8bb4b-7277-430d-fd10-f9bbf6de802b"
      },
      "execution_count": null,
      "outputs": [
        {
          "output_type": "execute_result",
          "data": {
            "text/plain": [
              "0.9348494177978328"
            ]
          },
          "metadata": {},
          "execution_count": 572
        }
      ]
    },
    {
      "cell_type": "code",
      "source": [
        "pred_val=ct_best.predict(X_test)"
      ],
      "metadata": {
        "id": "oyAIsC-w7Cow"
      },
      "execution_count": null,
      "outputs": []
    },
    {
      "cell_type": "code",
      "source": [
        "accuracy_score(pred_val,y_test)"
      ],
      "metadata": {
        "colab": {
          "base_uri": "https://localhost:8080/"
        },
        "id": "-fiwrAvl7F8S",
        "outputId": "0278a9f4-1783-4fe6-b6a6-4057afa2e5ac"
      },
      "execution_count": null,
      "outputs": [
        {
          "output_type": "execute_result",
          "data": {
            "text/plain": [
              "0.945"
            ]
          },
          "metadata": {},
          "execution_count": 574
        }
      ]
    },
    {
      "cell_type": "code",
      "source": [
        "tk9=DecisionTreeClassifier(random_state=19,max_depth=3).fit(X_train,y_train)"
      ],
      "metadata": {
        "id": "FWOYg6Jl7LSk"
      },
      "execution_count": null,
      "outputs": []
    },
    {
      "cell_type": "code",
      "source": [
        "from ipywidgets import Image\n",
        "from io import StringIO\n",
        "import pydotplus \n",
        "\n",
        "dot2_data=StringIO()\n",
        "export_graphviz(decision_tree=tk9,out_file=dot2_data,filled=True,feature_names=df.drop(['Уход'], axis=1).columns)\n",
        "graph=pydotplus.graph_from_dot_data(dot2_data.getvalue())\n",
        "Image(value=graph.create_png())"
      ],
      "metadata": {
        "colab": {
          "base_uri": "https://localhost:8080/",
          "height": 336,
          "referenced_widgets": [
            "1b30b6191f35457a888ca3d7ac860887",
            "06455d55eea0458f8bbc4747441f6c4f"
          ]
        },
        "id": "mLqqnLpE7YX2",
        "outputId": "fd9721d4-fc0e-4786-833e-8d802e79d288"
      },
      "execution_count": null,
      "outputs": [
        {
          "output_type": "display_data",
          "data": {
            "application/vnd.jupyter.widget-view+json": {
              "model_id": "1b30b6191f35457a888ca3d7ac860887",
              "version_minor": 0,
              "version_major": 2
            },
            "text/plain": [
              "Image(value=b'\\x89PNG\\r\\n\\x1a\\n\\x00\\x00\\x00\\rIHDR\\x00\\x00\\x05\\xc2\\x00\\x00\\x01\\xf1\\x08\\x02\\x00\\x00\\x00\\xc1MX\\x9…"
            ]
          },
          "metadata": {}
        }
      ]
    },
    {
      "cell_type": "markdown",
      "source": [
        "Random Forest Classifier"
      ],
      "metadata": {
        "id": "6Xrrh6b-827b"
      }
    },
    {
      "cell_type": "code",
      "source": [
        "\n",
        "X_std = StandardScaler().fit_transform(X)\n",
        "dfNorm = pd.DataFrame(X_std, index=df.index, columns=df.columns[0:16])\n",
        "\n",
        "# Target\n",
        "dfNorm['Уход'] = df['Уход']\n",
        "dfNorm.head(5)\n"
      ],
      "metadata": {
        "colab": {
          "base_uri": "https://localhost:8080/",
          "height": 302
        },
        "id": "M5GMbhS1ir_A",
        "outputId": "fd9aa39b-963d-4d70-c583-fe85720a8810"
      },
      "execution_count": null,
      "outputs": [
        {
          "output_type": "execute_result",
          "data": {
            "text/html": [
              "\n",
              "  <div id=\"df-627f2000-6bb2-4405-bc79-78959fc5b615\">\n",
              "    <div class=\"colab-df-container\">\n",
              "      <div>\n",
              "<style scoped>\n",
              "    .dataframe tbody tr th:only-of-type {\n",
              "        vertical-align: middle;\n",
              "    }\n",
              "\n",
              "    .dataframe tbody tr th {\n",
              "        vertical-align: top;\n",
              "    }\n",
              "\n",
              "    .dataframe thead th {\n",
              "        text-align: right;\n",
              "    }\n",
              "</style>\n",
              "<table border=\"1\" class=\"dataframe\">\n",
              "  <thead>\n",
              "    <tr style=\"text-align: right;\">\n",
              "      <th></th>\n",
              "      <th>Услуга международных звонков</th>\n",
              "      <th>Услуга VMail</th>\n",
              "      <th>Количество VMail</th>\n",
              "      <th>Дневные минуты</th>\n",
              "      <th>Дневные звонки</th>\n",
              "      <th>Дневная оплата</th>\n",
              "      <th>Вечерние минуты</th>\n",
              "      <th>Вечерние звонки</th>\n",
              "      <th>Вечерняя оплата</th>\n",
              "      <th>Ночные минуты</th>\n",
              "      <th>Ночные звонки</th>\n",
              "      <th>Ночная оплата</th>\n",
              "      <th>Международные минуты</th>\n",
              "      <th>Международные звонки</th>\n",
              "      <th>Международная оплата</th>\n",
              "      <th>Обращений в СЦ</th>\n",
              "      <th>Уход</th>\n",
              "    </tr>\n",
              "  </thead>\n",
              "  <tbody>\n",
              "    <tr>\n",
              "      <th>0</th>\n",
              "      <td>-0.327580</td>\n",
              "      <td>1.617086</td>\n",
              "      <td>1.234883</td>\n",
              "      <td>1.566767</td>\n",
              "      <td>0.476643</td>\n",
              "      <td>1.567036</td>\n",
              "      <td>-0.070610</td>\n",
              "      <td>-0.055940</td>\n",
              "      <td>-0.070427</td>\n",
              "      <td>0.866743</td>\n",
              "      <td>-0.465494</td>\n",
              "      <td>0.866029</td>\n",
              "      <td>-0.085008</td>\n",
              "      <td>-0.601195</td>\n",
              "      <td>-0.085690</td>\n",
              "      <td>-0.427932</td>\n",
              "      <td>0</td>\n",
              "    </tr>\n",
              "    <tr>\n",
              "      <th>1</th>\n",
              "      <td>-0.327580</td>\n",
              "      <td>1.617086</td>\n",
              "      <td>1.307948</td>\n",
              "      <td>-0.333738</td>\n",
              "      <td>1.124503</td>\n",
              "      <td>-0.334013</td>\n",
              "      <td>-0.108080</td>\n",
              "      <td>0.144867</td>\n",
              "      <td>-0.107549</td>\n",
              "      <td>1.058571</td>\n",
              "      <td>0.147825</td>\n",
              "      <td>1.059390</td>\n",
              "      <td>1.240482</td>\n",
              "      <td>-0.601195</td>\n",
              "      <td>1.241169</td>\n",
              "      <td>-0.427932</td>\n",
              "      <td>0</td>\n",
              "    </tr>\n",
              "    <tr>\n",
              "      <th>2</th>\n",
              "      <td>-0.327580</td>\n",
              "      <td>-0.618396</td>\n",
              "      <td>-0.591760</td>\n",
              "      <td>1.168304</td>\n",
              "      <td>0.675985</td>\n",
              "      <td>1.168464</td>\n",
              "      <td>-1.573383</td>\n",
              "      <td>0.496279</td>\n",
              "      <td>-1.573900</td>\n",
              "      <td>-0.756869</td>\n",
              "      <td>0.198935</td>\n",
              "      <td>-0.755571</td>\n",
              "      <td>0.703121</td>\n",
              "      <td>0.211534</td>\n",
              "      <td>0.697156</td>\n",
              "      <td>-1.188218</td>\n",
              "      <td>0</td>\n",
              "    </tr>\n",
              "    <tr>\n",
              "      <th>3</th>\n",
              "      <td>3.052685</td>\n",
              "      <td>-0.618396</td>\n",
              "      <td>-0.591760</td>\n",
              "      <td>2.196596</td>\n",
              "      <td>-1.466936</td>\n",
              "      <td>2.196759</td>\n",
              "      <td>-2.742865</td>\n",
              "      <td>-0.608159</td>\n",
              "      <td>-2.743268</td>\n",
              "      <td>-0.078551</td>\n",
              "      <td>-0.567714</td>\n",
              "      <td>-0.078806</td>\n",
              "      <td>-1.303026</td>\n",
              "      <td>1.024263</td>\n",
              "      <td>-1.306401</td>\n",
              "      <td>0.332354</td>\n",
              "      <td>0</td>\n",
              "    </tr>\n",
              "    <tr>\n",
              "      <th>4</th>\n",
              "      <td>3.052685</td>\n",
              "      <td>-0.618396</td>\n",
              "      <td>-0.591760</td>\n",
              "      <td>-0.240090</td>\n",
              "      <td>0.626149</td>\n",
              "      <td>-0.240041</td>\n",
              "      <td>-1.038932</td>\n",
              "      <td>1.098699</td>\n",
              "      <td>-1.037939</td>\n",
              "      <td>-0.276311</td>\n",
              "      <td>1.067803</td>\n",
              "      <td>-0.276562</td>\n",
              "      <td>-0.049184</td>\n",
              "      <td>-0.601195</td>\n",
              "      <td>-0.045885</td>\n",
              "      <td>1.092641</td>\n",
              "      <td>0</td>\n",
              "    </tr>\n",
              "  </tbody>\n",
              "</table>\n",
              "</div>\n",
              "      <button class=\"colab-df-convert\" onclick=\"convertToInteractive('df-627f2000-6bb2-4405-bc79-78959fc5b615')\"\n",
              "              title=\"Convert this dataframe to an interactive table.\"\n",
              "              style=\"display:none;\">\n",
              "        \n",
              "  <svg xmlns=\"http://www.w3.org/2000/svg\" height=\"24px\"viewBox=\"0 0 24 24\"\n",
              "       width=\"24px\">\n",
              "    <path d=\"M0 0h24v24H0V0z\" fill=\"none\"/>\n",
              "    <path d=\"M18.56 5.44l.94 2.06.94-2.06 2.06-.94-2.06-.94-.94-2.06-.94 2.06-2.06.94zm-11 1L8.5 8.5l.94-2.06 2.06-.94-2.06-.94L8.5 2.5l-.94 2.06-2.06.94zm10 10l.94 2.06.94-2.06 2.06-.94-2.06-.94-.94-2.06-.94 2.06-2.06.94z\"/><path d=\"M17.41 7.96l-1.37-1.37c-.4-.4-.92-.59-1.43-.59-.52 0-1.04.2-1.43.59L10.3 9.45l-7.72 7.72c-.78.78-.78 2.05 0 2.83L4 21.41c.39.39.9.59 1.41.59.51 0 1.02-.2 1.41-.59l7.78-7.78 2.81-2.81c.8-.78.8-2.07 0-2.86zM5.41 20L4 18.59l7.72-7.72 1.47 1.35L5.41 20z\"/>\n",
              "  </svg>\n",
              "      </button>\n",
              "      \n",
              "  <style>\n",
              "    .colab-df-container {\n",
              "      display:flex;\n",
              "      flex-wrap:wrap;\n",
              "      gap: 12px;\n",
              "    }\n",
              "\n",
              "    .colab-df-convert {\n",
              "      background-color: #E8F0FE;\n",
              "      border: none;\n",
              "      border-radius: 50%;\n",
              "      cursor: pointer;\n",
              "      display: none;\n",
              "      fill: #1967D2;\n",
              "      height: 32px;\n",
              "      padding: 0 0 0 0;\n",
              "      width: 32px;\n",
              "    }\n",
              "\n",
              "    .colab-df-convert:hover {\n",
              "      background-color: #E2EBFA;\n",
              "      box-shadow: 0px 1px 2px rgba(60, 64, 67, 0.3), 0px 1px 3px 1px rgba(60, 64, 67, 0.15);\n",
              "      fill: #174EA6;\n",
              "    }\n",
              "\n",
              "    [theme=dark] .colab-df-convert {\n",
              "      background-color: #3B4455;\n",
              "      fill: #D2E3FC;\n",
              "    }\n",
              "\n",
              "    [theme=dark] .colab-df-convert:hover {\n",
              "      background-color: #434B5C;\n",
              "      box-shadow: 0px 1px 3px 1px rgba(0, 0, 0, 0.15);\n",
              "      filter: drop-shadow(0px 1px 2px rgba(0, 0, 0, 0.3));\n",
              "      fill: #FFFFFF;\n",
              "    }\n",
              "  </style>\n",
              "\n",
              "      <script>\n",
              "        const buttonEl =\n",
              "          document.querySelector('#df-627f2000-6bb2-4405-bc79-78959fc5b615 button.colab-df-convert');\n",
              "        buttonEl.style.display =\n",
              "          google.colab.kernel.accessAllowed ? 'block' : 'none';\n",
              "\n",
              "        async function convertToInteractive(key) {\n",
              "          const element = document.querySelector('#df-627f2000-6bb2-4405-bc79-78959fc5b615');\n",
              "          const dataTable =\n",
              "            await google.colab.kernel.invokeFunction('convertToInteractive',\n",
              "                                                     [key], {});\n",
              "          if (!dataTable) return;\n",
              "\n",
              "          const docLinkHtml = 'Like what you see? Visit the ' +\n",
              "            '<a target=\"_blank\" href=https://colab.research.google.com/notebooks/data_table.ipynb>data table notebook</a>'\n",
              "            + ' to learn more about interactive tables.';\n",
              "          element.innerHTML = '';\n",
              "          dataTable['output_type'] = 'display_data';\n",
              "          await google.colab.output.renderOutput(dataTable, element);\n",
              "          const docLink = document.createElement('div');\n",
              "          docLink.innerHTML = docLinkHtml;\n",
              "          element.appendChild(docLink);\n",
              "        }\n",
              "      </script>\n",
              "    </div>\n",
              "  </div>\n",
              "  "
            ],
            "text/plain": [
              "   Услуга международных звонков  Услуга VMail  ...  Обращений в СЦ  Уход\n",
              "0                     -0.327580      1.617086  ...       -0.427932     0\n",
              "1                     -0.327580      1.617086  ...       -0.427932     0\n",
              "2                     -0.327580     -0.618396  ...       -1.188218     0\n",
              "3                      3.052685     -0.618396  ...        0.332354     0\n",
              "4                      3.052685     -0.618396  ...        1.092641     0\n",
              "\n",
              "[5 rows x 17 columns]"
            ]
          },
          "metadata": {},
          "execution_count": 577
        }
      ]
    },
    {
      "cell_type": "code",
      "source": [
        "rfc = RandomForestClassifier(bootstrap=True, class_weight=None, criterion='gini',\n",
        "            max_depth=8, max_features='auto', max_leaf_nodes=None,\n",
        "            min_samples_leaf=6, min_samples_split=2,\n",
        "            min_weight_fraction_leaf=0.0, n_estimators=100, n_jobs=1,\n",
        "            oob_score=False, random_state=16, verbose=0,\n",
        "            warm_start=False)"
      ],
      "metadata": {
        "id": "SMXXHGpV7nzN"
      },
      "execution_count": null,
      "outputs": []
    },
    {
      "cell_type": "code",
      "source": [
        "rfc.fit(X_train, y_train)"
      ],
      "metadata": {
        "colab": {
          "base_uri": "https://localhost:8080/"
        },
        "id": "5r7tq4Vq85hq",
        "outputId": "dee4785e-cac6-4186-dc61-99a88cfa451e"
      },
      "execution_count": null,
      "outputs": [
        {
          "output_type": "execute_result",
          "data": {
            "text/plain": [
              "RandomForestClassifier(max_depth=8, min_samples_leaf=6, n_jobs=1,\n",
              "                       random_state=16)"
            ]
          },
          "metadata": {},
          "execution_count": 579
        }
      ]
    },
    {
      "cell_type": "code",
      "source": [
        "y_pred = rfc.predict(X_test)"
      ],
      "metadata": {
        "id": "YS_UcpI_9-le"
      },
      "execution_count": null,
      "outputs": []
    },
    {
      "cell_type": "code",
      "source": [
        "forest_cm = confusion_matrix(y_pred, y_test)\n",
        "sns.heatmap(forest_cm, annot=True, fmt='.2f',xticklabels = [\"Остались\", \"Уход\"] , yticklabels = [\"Остались\", \"Уход\"] )\n",
        "plt.title('Random Forest Classifier')"
      ],
      "metadata": {
        "colab": {
          "base_uri": "https://localhost:8080/",
          "height": 298
        },
        "id": "jVQjlYv8-VCg",
        "outputId": "6755075c-8bcd-4f22-e8b8-c62b1fd33473"
      },
      "execution_count": null,
      "outputs": [
        {
          "output_type": "execute_result",
          "data": {
            "text/plain": [
              "Text(0.5, 1.0, 'Random Forest Classifier')"
            ]
          },
          "metadata": {},
          "execution_count": 581
        },
        {
          "output_type": "display_data",
          "data": {
            "image/png": "[encoded data removed]",
            "text/plain": [
              "<Figure size 432x288 with 2 Axes>"
            ]
          },
          "metadata": {
            "needs_background": "light"
          }
        }
      ]
    },
    {
      "cell_type": "code",
      "source": [
        "acc_score = accuracy_score(y_test,y_pred)\n",
        "rec_score = metrics.recall_score(y_test,y_pred)\n",
        "precision = metrics.precision_score(y_test,y_pred)\n",
        "roc_auc = roc_auc_score(y_test,y_pred)\n",
        "f1 = metrics.f1_score(y_test,y_pred) "
      ],
      "metadata": {
        "id": "OHCyWdBk-gx9"
      },
      "execution_count": null,
      "outputs": []
    },
    {
      "cell_type": "code",
      "source": [
        "print('Accuracy:', acc_score)\n",
        "print('Recall:', rec_score)\n",
        "print('Precision:', precision)\n",
        "print('ROC AUC score:', roc_auc)\n",
        "print('F1 Score:', f1)"
      ],
      "metadata": {
        "colab": {
          "base_uri": "https://localhost:8080/"
        },
        "id": "kD2h97B-Bgi-",
        "outputId": "e6786d85-b747-4992-82e5-ece829cb8d8e"
      },
      "execution_count": null,
      "outputs": [
        {
          "output_type": "stream",
          "name": "stdout",
          "text": [
            "Accuracy: 0.954\n",
            "Recall: 0.7536231884057971\n",
            "Precision: 0.896551724137931\n",
            "ROC AUC score: 0.869851037358351\n",
            "F1 Score: 0.8188976377952756\n"
          ]
        }
      ]
    },
    {
      "cell_type": "code",
      "source": [
        "#calculate precision and recall\n",
        "precision, recall, thresholds = precision_recall_curve(y_test, y_pred)\n",
        "\n",
        "#create precision recall curve\n",
        "fig, ax = plt.subplots()\n",
        "ax.plot(recall, precision, color='purple')\n",
        "\n",
        "#add axis labels to plot\n",
        "ax.set_title('Precision-Recall Curve')\n",
        "ax.set_ylabel('Precision')\n",
        "ax.set_xlabel('Recall')\n",
        "\n",
        "#display plot\n",
        "plt.show()"
      ],
      "metadata": {
        "colab": {
          "base_uri": "https://localhost:8080/",
          "height": 295
        },
        "id": "eUT9bWSKEwKY",
        "outputId": "f1ad4c22-53e8-4d8a-cc55-b0f794bfa08d"
      },
      "execution_count": null,
      "outputs": [
        {
          "output_type": "display_data",
          "data": {
            "image/png": "[encoded data removed]",
            "text/plain": [
              "<Figure size 432x288 with 1 Axes>"
            ]
          },
          "metadata": {
            "needs_background": "light"
          }
        }
      ]
    },
    {
      "cell_type": "code",
      "source": [
        "y_pred_full = rfc.predict(X)"
      ],
      "metadata": {
        "id": "7dngqndahgrS"
      },
      "execution_count": null,
      "outputs": []
    },
    {
      "cell_type": "markdown",
      "source": [
        "Feature Selection"
      ],
      "metadata": {
        "id": "wzWkIrtNQthz"
      }
    },
    {
      "cell_type": "code",
      "source": [
        "feats = {} # a dict to hold feature_name: feature_importance\n",
        "for feature, importance in zip(df.columns, rfc.feature_importances_):\n",
        "    feats[feature] = importance #add the name/value pair \n",
        "\n",
        "  \n",
        "\n",
        "importances = pd.DataFrame.from_dict(feats, orient='index').rename(columns={0: 'Gini-importance'})\n",
        "importances.sort_values(by='Gini-importance').plot(kind='bar', rot=45)"
      ],
      "metadata": {
        "colab": {
          "base_uri": "https://localhost:8080/",
          "height": 400
        },
        "id": "zV2UY0R9X0PZ",
        "outputId": "ec99e1a9-7f18-4102-f843-92b913c4441c"
      },
      "execution_count": null,
      "outputs": [
        {
          "output_type": "execute_result",
          "data": {
            "text/plain": [
              "<matplotlib.axes._subplots.AxesSubplot at 0x7f0278a6c610>"
            ]
          },
          "metadata": {},
          "execution_count": 586
        },
        {
          "output_type": "display_data",
          "data": {
            "image/png": "[encoded data removed]",
            "text/plain": [
              "<Figure size 432x288 with 1 Axes>"
            ]
          },
          "metadata": {
            "needs_background": "light"
          }
        }
      ]
    },
    {
      "cell_type": "code",
      "source": [
        "importances"
      ],
      "metadata": {
        "colab": {
          "base_uri": "https://localhost:8080/",
          "height": 545
        },
        "id": "KP3IjlRRonRp",
        "outputId": "86270a32-7c5a-4837-b69b-ab78696c3a4e"
      },
      "execution_count": null,
      "outputs": [
        {
          "output_type": "execute_result",
          "data": {
            "text/html": [
              "\n",
              "  <div id=\"df-5f11f101-3e53-4236-b4be-f77ab4c50171\">\n",
              "    <div class=\"colab-df-container\">\n",
              "      <div>\n",
              "<style scoped>\n",
              "    .dataframe tbody tr th:only-of-type {\n",
              "        vertical-align: middle;\n",
              "    }\n",
              "\n",
              "    .dataframe tbody tr th {\n",
              "        vertical-align: top;\n",
              "    }\n",
              "\n",
              "    .dataframe thead th {\n",
              "        text-align: right;\n",
              "    }\n",
              "</style>\n",
              "<table border=\"1\" class=\"dataframe\">\n",
              "  <thead>\n",
              "    <tr style=\"text-align: right;\">\n",
              "      <th></th>\n",
              "      <th>Gini-importance</th>\n",
              "    </tr>\n",
              "  </thead>\n",
              "  <tbody>\n",
              "    <tr>\n",
              "      <th>Услуга международных звонков</th>\n",
              "      <td>0.092776</td>\n",
              "    </tr>\n",
              "    <tr>\n",
              "      <th>Услуга VMail</th>\n",
              "      <td>0.032999</td>\n",
              "    </tr>\n",
              "    <tr>\n",
              "      <th>Количество VMail</th>\n",
              "      <td>0.030034</td>\n",
              "    </tr>\n",
              "    <tr>\n",
              "      <th>Дневные минуты</th>\n",
              "      <td>0.176838</td>\n",
              "    </tr>\n",
              "    <tr>\n",
              "      <th>Дневные звонки</th>\n",
              "      <td>0.015482</td>\n",
              "    </tr>\n",
              "    <tr>\n",
              "      <th>Дневная оплата</th>\n",
              "      <td>0.168438</td>\n",
              "    </tr>\n",
              "    <tr>\n",
              "      <th>Вечерние минуты</th>\n",
              "      <td>0.068886</td>\n",
              "    </tr>\n",
              "    <tr>\n",
              "      <th>Вечерние звонки</th>\n",
              "      <td>0.012785</td>\n",
              "    </tr>\n",
              "    <tr>\n",
              "      <th>Вечерняя оплата</th>\n",
              "      <td>0.061601</td>\n",
              "    </tr>\n",
              "    <tr>\n",
              "      <th>Ночные минуты</th>\n",
              "      <td>0.024623</td>\n",
              "    </tr>\n",
              "    <tr>\n",
              "      <th>Ночные звонки</th>\n",
              "      <td>0.014678</td>\n",
              "    </tr>\n",
              "    <tr>\n",
              "      <th>Ночная оплата</th>\n",
              "      <td>0.023135</td>\n",
              "    </tr>\n",
              "    <tr>\n",
              "      <th>Международные минуты</th>\n",
              "      <td>0.035159</td>\n",
              "    </tr>\n",
              "    <tr>\n",
              "      <th>Международные звонки</th>\n",
              "      <td>0.049939</td>\n",
              "    </tr>\n",
              "    <tr>\n",
              "      <th>Международная оплата</th>\n",
              "      <td>0.028494</td>\n",
              "    </tr>\n",
              "    <tr>\n",
              "      <th>Обращений в СЦ</th>\n",
              "      <td>0.164134</td>\n",
              "    </tr>\n",
              "  </tbody>\n",
              "</table>\n",
              "</div>\n",
              "      <button class=\"colab-df-convert\" onclick=\"convertToInteractive('df-5f11f101-3e53-4236-b4be-f77ab4c50171')\"\n",
              "              title=\"Convert this dataframe to an interactive table.\"\n",
              "              style=\"display:none;\">\n",
              "        \n",
              "  <svg xmlns=\"http://www.w3.org/2000/svg\" height=\"24px\"viewBox=\"0 0 24 24\"\n",
              "       width=\"24px\">\n",
              "    <path d=\"M0 0h24v24H0V0z\" fill=\"none\"/>\n",
              "    <path d=\"M18.56 5.44l.94 2.06.94-2.06 2.06-.94-2.06-.94-.94-2.06-.94 2.06-2.06.94zm-11 1L8.5 8.5l.94-2.06 2.06-.94-2.06-.94L8.5 2.5l-.94 2.06-2.06.94zm10 10l.94 2.06.94-2.06 2.06-.94-2.06-.94-.94-2.06-.94 2.06-2.06.94z\"/><path d=\"M17.41 7.96l-1.37-1.37c-.4-.4-.92-.59-1.43-.59-.52 0-1.04.2-1.43.59L10.3 9.45l-7.72 7.72c-.78.78-.78 2.05 0 2.83L4 21.41c.39.39.9.59 1.41.59.51 0 1.02-.2 1.41-.59l7.78-7.78 2.81-2.81c.8-.78.8-2.07 0-2.86zM5.41 20L4 18.59l7.72-7.72 1.47 1.35L5.41 20z\"/>\n",
              "  </svg>\n",
              "      </button>\n",
              "      \n",
              "  <style>\n",
              "    .colab-df-container {\n",
              "      display:flex;\n",
              "      flex-wrap:wrap;\n",
              "      gap: 12px;\n",
              "    }\n",
              "\n",
              "    .colab-df-convert {\n",
              "      background-color: #E8F0FE;\n",
              "      border: none;\n",
              "      border-radius: 50%;\n",
              "      cursor: pointer;\n",
              "      display: none;\n",
              "      fill: #1967D2;\n",
              "      height: 32px;\n",
              "      padding: 0 0 0 0;\n",
              "      width: 32px;\n",
              "    }\n",
              "\n",
              "    .colab-df-convert:hover {\n",
              "      background-color: #E2EBFA;\n",
              "      box-shadow: 0px 1px 2px rgba(60, 64, 67, 0.3), 0px 1px 3px 1px rgba(60, 64, 67, 0.15);\n",
              "      fill: #174EA6;\n",
              "    }\n",
              "\n",
              "    [theme=dark] .colab-df-convert {\n",
              "      background-color: #3B4455;\n",
              "      fill: #D2E3FC;\n",
              "    }\n",
              "\n",
              "    [theme=dark] .colab-df-convert:hover {\n",
              "      background-color: #434B5C;\n",
              "      box-shadow: 0px 1px 3px 1px rgba(0, 0, 0, 0.15);\n",
              "      filter: drop-shadow(0px 1px 2px rgba(0, 0, 0, 0.3));\n",
              "      fill: #FFFFFF;\n",
              "    }\n",
              "  </style>\n",
              "\n",
              "      <script>\n",
              "        const buttonEl =\n",
              "          document.querySelector('#df-5f11f101-3e53-4236-b4be-f77ab4c50171 button.colab-df-convert');\n",
              "        buttonEl.style.display =\n",
              "          google.colab.kernel.accessAllowed ? 'block' : 'none';\n",
              "\n",
              "        async function convertToInteractive(key) {\n",
              "          const element = document.querySelector('#df-5f11f101-3e53-4236-b4be-f77ab4c50171');\n",
              "          const dataTable =\n",
              "            await google.colab.kernel.invokeFunction('convertToInteractive',\n",
              "                                                     [key], {});\n",
              "          if (!dataTable) return;\n",
              "\n",
              "          const docLinkHtml = 'Like what you see? Visit the ' +\n",
              "            '<a target=\"_blank\" href=https://colab.research.google.com/notebooks/data_table.ipynb>data table notebook</a>'\n",
              "            + ' to learn more about interactive tables.';\n",
              "          element.innerHTML = '';\n",
              "          dataTable['output_type'] = 'display_data';\n",
              "          await google.colab.output.renderOutput(dataTable, element);\n",
              "          const docLink = document.createElement('div');\n",
              "          docLink.innerHTML = docLinkHtml;\n",
              "          element.appendChild(docLink);\n",
              "        }\n",
              "      </script>\n",
              "    </div>\n",
              "  </div>\n",
              "  "
            ],
            "text/plain": [
              "                              Gini-importance\n",
              "Услуга международных звонков         0.092776\n",
              "Услуга VMail                         0.032999\n",
              "Количество VMail                     0.030034\n",
              "Дневные минуты                       0.176838\n",
              "Дневные звонки                       0.015482\n",
              "Дневная оплата                       0.168438\n",
              "Вечерние минуты                      0.068886\n",
              "Вечерние звонки                      0.012785\n",
              "Вечерняя оплата                      0.061601\n",
              "Ночные минуты                        0.024623\n",
              "Ночные звонки                        0.014678\n",
              "Ночная оплата                        0.023135\n",
              "Международные минуты                 0.035159\n",
              "Международные звонки                 0.049939\n",
              "Международная оплата                 0.028494\n",
              "Обращений в СЦ                       0.164134"
            ]
          },
          "metadata": {},
          "execution_count": 587
        }
      ]
    },
    {
      "cell_type": "markdown",
      "source": [
        "Predict Probability of Churn with Logistic Regression"
      ],
      "metadata": {
        "id": "90H56GrHtd3J"
      }
    },
    {
      "cell_type": "code",
      "source": [
        "\n",
        "churn_df = df[['Дневные минуты', 'Дневная оплата', 'Услуга международных звонков', 'Обращений в СЦ', 'Уход']]\n"
      ],
      "metadata": {
        "id": "ye44VPOsppoT"
      },
      "execution_count": null,
      "outputs": []
    },
    {
      "cell_type": "code",
      "source": [
        "X=churn_df.iloc[:, 0:4]\n",
        "y= churn_df.iloc[:,4]\n",
        "y = y.values.reshape(-1, 1)"
      ],
      "metadata": {
        "id": "o4_pfghAeMZb"
      },
      "execution_count": null,
      "outputs": []
    },
    {
      "cell_type": "code",
      "source": [
        "X_train, X_test, y_train, y_test = train_test_split(X, y, test_size = 0.2, random_state = 100)\n"
      ],
      "metadata": {
        "id": "V7VNBqeOce0E"
      },
      "execution_count": null,
      "outputs": []
    },
    {
      "cell_type": "code",
      "source": [
        "sm = SMOTE(random_state=0, k_neighbors=5)\n",
        "X_train, y_train = sm.fit_resample(X_train, y_train)\n"
      ],
      "metadata": {
        "id": "4GZvAxdQegNI"
      },
      "execution_count": null,
      "outputs": []
    },
    {
      "cell_type": "code",
      "source": [
        "lr= LogisticRegression(class_weight='balanced')\n",
        "lr.fit(X_train,y_train)"
      ],
      "metadata": {
        "colab": {
          "base_uri": "https://localhost:8080/"
        },
        "id": "dP7Ru92ye28P",
        "outputId": "9ad6640f-2456-465a-9cc1-610045057574"
      },
      "execution_count": null,
      "outputs": [
        {
          "output_type": "execute_result",
          "data": {
            "text/plain": [
              "LogisticRegression(class_weight='balanced')"
            ]
          },
          "metadata": {},
          "execution_count": 592
        }
      ]
    },
    {
      "cell_type": "code",
      "source": [
        "y_pred_prob = lr.predict(X_test)\n"
      ],
      "metadata": {
        "id": "ilvtN8z5cIqq"
      },
      "execution_count": null,
      "outputs": []
    },
    {
      "cell_type": "code",
      "source": [
        "# print accuracy\n",
        "print(\"Accuracy: \", accuracy_score(y_test, y_pred_prob))\n",
        "\n",
        "# print precision, recall, F1-score per each class/tag\n",
        "print(classification_report(y_test, y_pred_prob))\n"
      ],
      "metadata": {
        "colab": {
          "base_uri": "https://localhost:8080/"
        },
        "id": "4kxWqutYcXYl",
        "outputId": "e59a1239-56ed-4587-f166-70cb9f71b922"
      },
      "execution_count": null,
      "outputs": [
        {
          "output_type": "stream",
          "name": "stdout",
          "text": [
            "Accuracy:  0.7526236881559221\n",
            "              precision    recall  f1-score   support\n",
            "\n",
            "           0       0.95      0.76      0.85       593\n",
            "           1       0.26      0.68      0.38        74\n",
            "\n",
            "    accuracy                           0.75       667\n",
            "   macro avg       0.61      0.72      0.61       667\n",
            "weighted avg       0.87      0.75      0.79       667\n",
            "\n"
          ]
        }
      ]
    },
    {
      "cell_type": "code",
      "source": [
        "# print confusion matrix\n",
        "print(confusion_matrix(y_test, y_pred_prob))"
      ],
      "metadata": {
        "colab": {
          "base_uri": "https://localhost:8080/"
        },
        "id": "n0CB-LJQg2Y0",
        "outputId": "bc9c9c77-eda3-4907-f51f-d700172ef0b2"
      },
      "execution_count": null,
      "outputs": [
        {
          "output_type": "stream",
          "name": "stdout",
          "text": [
            "[[452 141]\n",
            " [ 24  50]]\n"
          ]
        }
      ]
    },
    {
      "cell_type": "code",
      "source": [
        "probs = pd.DataFrame(data=churn_df,columns=churn_df.columns)"
      ],
      "metadata": {
        "id": "HxMgj3H5RtPm"
      },
      "execution_count": null,
      "outputs": []
    },
    {
      "cell_type": "code",
      "source": [
        "# Computing predicted probabilities\n",
        "pred_probs = lr.predict_proba(X)\n",
        "pred_probs.shape\n"
      ],
      "metadata": {
        "colab": {
          "base_uri": "https://localhost:8080/"
        },
        "id": "In85PI5mTRnW",
        "outputId": "f875916a-8eff-4a29-d2a5-4a4a243a2dab"
      },
      "execution_count": null,
      "outputs": [
        {
          "output_type": "execute_result",
          "data": {
            "text/plain": [
              "(3333, 2)"
            ]
          },
          "metadata": {},
          "execution_count": 597
        }
      ]
    },
    {
      "cell_type": "code",
      "source": [
        "# Actual Churn\n",
        "probs['Уход'] = y.copy()\n",
        "# Predicted Churn\n",
        "probs[\"Уход прогноз\"] = y_pred_full\n",
        "# Predicted Probability of No Churn\n",
        "probs['Вероятность пребывания'] = pred_probs[:,0]\n",
        "# Predicted Probability of Churn\n",
        "probs['Вероятность ухода'] = pred_probs[:,1]"
      ],
      "metadata": {
        "id": "fzUpBb-eQRFD"
      },
      "execution_count": null,
      "outputs": []
    },
    {
      "cell_type": "code",
      "source": [
        "probs.head(5)"
      ],
      "metadata": {
        "colab": {
          "base_uri": "https://localhost:8080/",
          "height": 282
        },
        "id": "hijMUyAstlZL",
        "outputId": "013eb529-3c2f-42ca-d419-10735d983514"
      },
      "execution_count": null,
      "outputs": [
        {
          "output_type": "execute_result",
          "data": {
            "text/html": [
              "\n",
              "  <div id=\"df-fd8a8341-d0f0-4ee3-ab2a-13d4cbe4c073\">\n",
              "    <div class=\"colab-df-container\">\n",
              "      <div>\n",
              "<style scoped>\n",
              "    .dataframe tbody tr th:only-of-type {\n",
              "        vertical-align: middle;\n",
              "    }\n",
              "\n",
              "    .dataframe tbody tr th {\n",
              "        vertical-align: top;\n",
              "    }\n",
              "\n",
              "    .dataframe thead th {\n",
              "        text-align: right;\n",
              "    }\n",
              "</style>\n",
              "<table border=\"1\" class=\"dataframe\">\n",
              "  <thead>\n",
              "    <tr style=\"text-align: right;\">\n",
              "      <th></th>\n",
              "      <th>Дневные минуты</th>\n",
              "      <th>Дневная оплата</th>\n",
              "      <th>Услуга международных звонков</th>\n",
              "      <th>Обращений в СЦ</th>\n",
              "      <th>Уход</th>\n",
              "      <th>Уход прогноз</th>\n",
              "      <th>Вероятность пребывания</th>\n",
              "      <th>Вероятность ухода</th>\n",
              "    </tr>\n",
              "  </thead>\n",
              "  <tbody>\n",
              "    <tr>\n",
              "      <th>0</th>\n",
              "      <td>265.1</td>\n",
              "      <td>45.07</td>\n",
              "      <td>False</td>\n",
              "      <td>1</td>\n",
              "      <td>0</td>\n",
              "      <td>0</td>\n",
              "      <td>0.462661</td>\n",
              "      <td>0.537339</td>\n",
              "    </tr>\n",
              "    <tr>\n",
              "      <th>1</th>\n",
              "      <td>161.6</td>\n",
              "      <td>27.47</td>\n",
              "      <td>False</td>\n",
              "      <td>1</td>\n",
              "      <td>0</td>\n",
              "      <td>0</td>\n",
              "      <td>0.806856</td>\n",
              "      <td>0.193144</td>\n",
              "    </tr>\n",
              "    <tr>\n",
              "      <th>2</th>\n",
              "      <td>243.4</td>\n",
              "      <td>41.38</td>\n",
              "      <td>False</td>\n",
              "      <td>0</td>\n",
              "      <td>0</td>\n",
              "      <td>0</td>\n",
              "      <td>0.676135</td>\n",
              "      <td>0.323865</td>\n",
              "    </tr>\n",
              "    <tr>\n",
              "      <th>3</th>\n",
              "      <td>299.4</td>\n",
              "      <td>50.90</td>\n",
              "      <td>True</td>\n",
              "      <td>2</td>\n",
              "      <td>0</td>\n",
              "      <td>0</td>\n",
              "      <td>0.016604</td>\n",
              "      <td>0.983396</td>\n",
              "    </tr>\n",
              "    <tr>\n",
              "      <th>4</th>\n",
              "      <td>166.7</td>\n",
              "      <td>28.34</td>\n",
              "      <td>True</td>\n",
              "      <td>3</td>\n",
              "      <td>0</td>\n",
              "      <td>0</td>\n",
              "      <td>0.068434</td>\n",
              "      <td>0.931566</td>\n",
              "    </tr>\n",
              "  </tbody>\n",
              "</table>\n",
              "</div>\n",
              "      <button class=\"colab-df-convert\" onclick=\"convertToInteractive('df-fd8a8341-d0f0-4ee3-ab2a-13d4cbe4c073')\"\n",
              "              title=\"Convert this dataframe to an interactive table.\"\n",
              "              style=\"display:none;\">\n",
              "        \n",
              "  <svg xmlns=\"http://www.w3.org/2000/svg\" height=\"24px\"viewBox=\"0 0 24 24\"\n",
              "       width=\"24px\">\n",
              "    <path d=\"M0 0h24v24H0V0z\" fill=\"none\"/>\n",
              "    <path d=\"M18.56 5.44l.94 2.06.94-2.06 2.06-.94-2.06-.94-.94-2.06-.94 2.06-2.06.94zm-11 1L8.5 8.5l.94-2.06 2.06-.94-2.06-.94L8.5 2.5l-.94 2.06-2.06.94zm10 10l.94 2.06.94-2.06 2.06-.94-2.06-.94-.94-2.06-.94 2.06-2.06.94z\"/><path d=\"M17.41 7.96l-1.37-1.37c-.4-.4-.92-.59-1.43-.59-.52 0-1.04.2-1.43.59L10.3 9.45l-7.72 7.72c-.78.78-.78 2.05 0 2.83L4 21.41c.39.39.9.59 1.41.59.51 0 1.02-.2 1.41-.59l7.78-7.78 2.81-2.81c.8-.78.8-2.07 0-2.86zM5.41 20L4 18.59l7.72-7.72 1.47 1.35L5.41 20z\"/>\n",
              "  </svg>\n",
              "      </button>\n",
              "      \n",
              "  <style>\n",
              "    .colab-df-container {\n",
              "      display:flex;\n",
              "      flex-wrap:wrap;\n",
              "      gap: 12px;\n",
              "    }\n",
              "\n",
              "    .colab-df-convert {\n",
              "      background-color: #E8F0FE;\n",
              "      border: none;\n",
              "      border-radius: 50%;\n",
              "      cursor: pointer;\n",
              "      display: none;\n",
              "      fill: #1967D2;\n",
              "      height: 32px;\n",
              "      padding: 0 0 0 0;\n",
              "      width: 32px;\n",
              "    }\n",
              "\n",
              "    .colab-df-convert:hover {\n",
              "      background-color: #E2EBFA;\n",
              "      box-shadow: 0px 1px 2px rgba(60, 64, 67, 0.3), 0px 1px 3px 1px rgba(60, 64, 67, 0.15);\n",
              "      fill: #174EA6;\n",
              "    }\n",
              "\n",
              "    [theme=dark] .colab-df-convert {\n",
              "      background-color: #3B4455;\n",
              "      fill: #D2E3FC;\n",
              "    }\n",
              "\n",
              "    [theme=dark] .colab-df-convert:hover {\n",
              "      background-color: #434B5C;\n",
              "      box-shadow: 0px 1px 3px 1px rgba(0, 0, 0, 0.15);\n",
              "      filter: drop-shadow(0px 1px 2px rgba(0, 0, 0, 0.3));\n",
              "      fill: #FFFFFF;\n",
              "    }\n",
              "  </style>\n",
              "\n",
              "      <script>\n",
              "        const buttonEl =\n",
              "          document.querySelector('#df-fd8a8341-d0f0-4ee3-ab2a-13d4cbe4c073 button.colab-df-convert');\n",
              "        buttonEl.style.display =\n",
              "          google.colab.kernel.accessAllowed ? 'block' : 'none';\n",
              "\n",
              "        async function convertToInteractive(key) {\n",
              "          const element = document.querySelector('#df-fd8a8341-d0f0-4ee3-ab2a-13d4cbe4c073');\n",
              "          const dataTable =\n",
              "            await google.colab.kernel.invokeFunction('convertToInteractive',\n",
              "                                                     [key], {});\n",
              "          if (!dataTable) return;\n",
              "\n",
              "          const docLinkHtml = 'Like what you see? Visit the ' +\n",
              "            '<a target=\"_blank\" href=https://colab.research.google.com/notebooks/data_table.ipynb>data table notebook</a>'\n",
              "            + ' to learn more about interactive tables.';\n",
              "          element.innerHTML = '';\n",
              "          dataTable['output_type'] = 'display_data';\n",
              "          await google.colab.output.renderOutput(dataTable, element);\n",
              "          const docLink = document.createElement('div');\n",
              "          docLink.innerHTML = docLinkHtml;\n",
              "          element.appendChild(docLink);\n",
              "        }\n",
              "      </script>\n",
              "    </div>\n",
              "  </div>\n",
              "  "
            ],
            "text/plain": [
              "   Дневные минуты  Дневная оплата  ...  Вероятность пребывания  Вероятность ухода\n",
              "0           265.1           45.07  ...                0.462661           0.537339\n",
              "1           161.6           27.47  ...                0.806856           0.193144\n",
              "2           243.4           41.38  ...                0.676135           0.323865\n",
              "3           299.4           50.90  ...                0.016604           0.983396\n",
              "4           166.7           28.34  ...                0.068434           0.931566\n",
              "\n",
              "[5 rows x 8 columns]"
            ]
          },
          "metadata": {},
          "execution_count": 599
        }
      ]
    },
    {
      "cell_type": "code",
      "source": [
        "probs[probs['Уход'] == 1].tail(10)"
      ],
      "metadata": {
        "colab": {
          "base_uri": "https://localhost:8080/",
          "height": 437
        },
        "id": "hMy8wumVTe75",
        "outputId": "527ffda4-39ce-4001-afe2-b8d345f1cf42"
      },
      "execution_count": null,
      "outputs": [
        {
          "output_type": "execute_result",
          "data": {
            "text/html": [
              "\n",
              "  <div id=\"df-2d724e4f-48b7-4308-8a47-5fc571986791\">\n",
              "    <div class=\"colab-df-container\">\n",
              "      <div>\n",
              "<style scoped>\n",
              "    .dataframe tbody tr th:only-of-type {\n",
              "        vertical-align: middle;\n",
              "    }\n",
              "\n",
              "    .dataframe tbody tr th {\n",
              "        vertical-align: top;\n",
              "    }\n",
              "\n",
              "    .dataframe thead th {\n",
              "        text-align: right;\n",
              "    }\n",
              "</style>\n",
              "<table border=\"1\" class=\"dataframe\">\n",
              "  <thead>\n",
              "    <tr style=\"text-align: right;\">\n",
              "      <th></th>\n",
              "      <th>Дневные минуты</th>\n",
              "      <th>Дневная оплата</th>\n",
              "      <th>Услуга международных звонков</th>\n",
              "      <th>Обращений в СЦ</th>\n",
              "      <th>Уход</th>\n",
              "      <th>Уход прогноз</th>\n",
              "      <th>Вероятность пребывания</th>\n",
              "      <th>Вероятность ухода</th>\n",
              "    </tr>\n",
              "  </thead>\n",
              "  <tbody>\n",
              "    <tr>\n",
              "      <th>3268</th>\n",
              "      <td>289.1</td>\n",
              "      <td>49.15</td>\n",
              "      <td>False</td>\n",
              "      <td>2</td>\n",
              "      <td>1</td>\n",
              "      <td>1</td>\n",
              "      <td>0.255320</td>\n",
              "      <td>0.744680</td>\n",
              "    </tr>\n",
              "    <tr>\n",
              "      <th>3272</th>\n",
              "      <td>295.0</td>\n",
              "      <td>50.15</td>\n",
              "      <td>False</td>\n",
              "      <td>2</td>\n",
              "      <td>1</td>\n",
              "      <td>1</td>\n",
              "      <td>0.238581</td>\n",
              "      <td>0.761419</td>\n",
              "    </tr>\n",
              "    <tr>\n",
              "      <th>3280</th>\n",
              "      <td>107.3</td>\n",
              "      <td>18.24</td>\n",
              "      <td>False</td>\n",
              "      <td>4</td>\n",
              "      <td>1</td>\n",
              "      <td>1</td>\n",
              "      <td>0.644417</td>\n",
              "      <td>0.355583</td>\n",
              "    </tr>\n",
              "    <tr>\n",
              "      <th>3287</th>\n",
              "      <td>199.5</td>\n",
              "      <td>33.92</td>\n",
              "      <td>False</td>\n",
              "      <td>4</td>\n",
              "      <td>1</td>\n",
              "      <td>1</td>\n",
              "      <td>0.307396</td>\n",
              "      <td>0.692604</td>\n",
              "    </tr>\n",
              "    <tr>\n",
              "      <th>3291</th>\n",
              "      <td>172.1</td>\n",
              "      <td>29.26</td>\n",
              "      <td>True</td>\n",
              "      <td>1</td>\n",
              "      <td>1</td>\n",
              "      <td>1</td>\n",
              "      <td>0.170194</td>\n",
              "      <td>0.829806</td>\n",
              "    </tr>\n",
              "    <tr>\n",
              "      <th>3301</th>\n",
              "      <td>280.0</td>\n",
              "      <td>47.60</td>\n",
              "      <td>False</td>\n",
              "      <td>0</td>\n",
              "      <td>1</td>\n",
              "      <td>1</td>\n",
              "      <td>0.544274</td>\n",
              "      <td>0.455726</td>\n",
              "    </tr>\n",
              "    <tr>\n",
              "      <th>3304</th>\n",
              "      <td>186.1</td>\n",
              "      <td>31.64</td>\n",
              "      <td>True</td>\n",
              "      <td>4</td>\n",
              "      <td>1</td>\n",
              "      <td>1</td>\n",
              "      <td>0.030425</td>\n",
              "      <td>0.969575</td>\n",
              "    </tr>\n",
              "    <tr>\n",
              "      <th>3320</th>\n",
              "      <td>140.0</td>\n",
              "      <td>23.80</td>\n",
              "      <td>True</td>\n",
              "      <td>4</td>\n",
              "      <td>1</td>\n",
              "      <td>1</td>\n",
              "      <td>0.059628</td>\n",
              "      <td>0.940372</td>\n",
              "    </tr>\n",
              "    <tr>\n",
              "      <th>3322</th>\n",
              "      <td>321.1</td>\n",
              "      <td>54.59</td>\n",
              "      <td>False</td>\n",
              "      <td>4</td>\n",
              "      <td>1</td>\n",
              "      <td>1</td>\n",
              "      <td>0.064895</td>\n",
              "      <td>0.935105</td>\n",
              "    </tr>\n",
              "    <tr>\n",
              "      <th>3323</th>\n",
              "      <td>118.4</td>\n",
              "      <td>20.13</td>\n",
              "      <td>False</td>\n",
              "      <td>5</td>\n",
              "      <td>1</td>\n",
              "      <td>1</td>\n",
              "      <td>0.467705</td>\n",
              "      <td>0.532295</td>\n",
              "    </tr>\n",
              "  </tbody>\n",
              "</table>\n",
              "</div>\n",
              "      <button class=\"colab-df-convert\" onclick=\"convertToInteractive('df-2d724e4f-48b7-4308-8a47-5fc571986791')\"\n",
              "              title=\"Convert this dataframe to an interactive table.\"\n",
              "              style=\"display:none;\">\n",
              "        \n",
              "  <svg xmlns=\"http://www.w3.org/2000/svg\" height=\"24px\"viewBox=\"0 0 24 24\"\n",
              "       width=\"24px\">\n",
              "    <path d=\"M0 0h24v24H0V0z\" fill=\"none\"/>\n",
              "    <path d=\"M18.56 5.44l.94 2.06.94-2.06 2.06-.94-2.06-.94-.94-2.06-.94 2.06-2.06.94zm-11 1L8.5 8.5l.94-2.06 2.06-.94-2.06-.94L8.5 2.5l-.94 2.06-2.06.94zm10 10l.94 2.06.94-2.06 2.06-.94-2.06-.94-.94-2.06-.94 2.06-2.06.94z\"/><path d=\"M17.41 7.96l-1.37-1.37c-.4-.4-.92-.59-1.43-.59-.52 0-1.04.2-1.43.59L10.3 9.45l-7.72 7.72c-.78.78-.78 2.05 0 2.83L4 21.41c.39.39.9.59 1.41.59.51 0 1.02-.2 1.41-.59l7.78-7.78 2.81-2.81c.8-.78.8-2.07 0-2.86zM5.41 20L4 18.59l7.72-7.72 1.47 1.35L5.41 20z\"/>\n",
              "  </svg>\n",
              "      </button>\n",
              "      \n",
              "  <style>\n",
              "    .colab-df-container {\n",
              "      display:flex;\n",
              "      flex-wrap:wrap;\n",
              "      gap: 12px;\n",
              "    }\n",
              "\n",
              "    .colab-df-convert {\n",
              "      background-color: #E8F0FE;\n",
              "      border: none;\n",
              "      border-radius: 50%;\n",
              "      cursor: pointer;\n",
              "      display: none;\n",
              "      fill: #1967D2;\n",
              "      height: 32px;\n",
              "      padding: 0 0 0 0;\n",
              "      width: 32px;\n",
              "    }\n",
              "\n",
              "    .colab-df-convert:hover {\n",
              "      background-color: #E2EBFA;\n",
              "      box-shadow: 0px 1px 2px rgba(60, 64, 67, 0.3), 0px 1px 3px 1px rgba(60, 64, 67, 0.15);\n",
              "      fill: #174EA6;\n",
              "    }\n",
              "\n",
              "    [theme=dark] .colab-df-convert {\n",
              "      background-color: #3B4455;\n",
              "      fill: #D2E3FC;\n",
              "    }\n",
              "\n",
              "    [theme=dark] .colab-df-convert:hover {\n",
              "      background-color: #434B5C;\n",
              "      box-shadow: 0px 1px 3px 1px rgba(0, 0, 0, 0.15);\n",
              "      filter: drop-shadow(0px 1px 2px rgba(0, 0, 0, 0.3));\n",
              "      fill: #FFFFFF;\n",
              "    }\n",
              "  </style>\n",
              "\n",
              "      <script>\n",
              "        const buttonEl =\n",
              "          document.querySelector('#df-2d724e4f-48b7-4308-8a47-5fc571986791 button.colab-df-convert');\n",
              "        buttonEl.style.display =\n",
              "          google.colab.kernel.accessAllowed ? 'block' : 'none';\n",
              "\n",
              "        async function convertToInteractive(key) {\n",
              "          const element = document.querySelector('#df-2d724e4f-48b7-4308-8a47-5fc571986791');\n",
              "          const dataTable =\n",
              "            await google.colab.kernel.invokeFunction('convertToInteractive',\n",
              "                                                     [key], {});\n",
              "          if (!dataTable) return;\n",
              "\n",
              "          const docLinkHtml = 'Like what you see? Visit the ' +\n",
              "            '<a target=\"_blank\" href=https://colab.research.google.com/notebooks/data_table.ipynb>data table notebook</a>'\n",
              "            + ' to learn more about interactive tables.';\n",
              "          element.innerHTML = '';\n",
              "          dataTable['output_type'] = 'display_data';\n",
              "          await google.colab.output.renderOutput(dataTable, element);\n",
              "          const docLink = document.createElement('div');\n",
              "          docLink.innerHTML = docLinkHtml;\n",
              "          element.appendChild(docLink);\n",
              "        }\n",
              "      </script>\n",
              "    </div>\n",
              "  </div>\n",
              "  "
            ],
            "text/plain": [
              "      Дневные минуты  Дневная оплата  ...  Вероятность пребывания  Вероятность ухода\n",
              "3268           289.1           49.15  ...                0.255320           0.744680\n",
              "3272           295.0           50.15  ...                0.238581           0.761419\n",
              "3280           107.3           18.24  ...                0.644417           0.355583\n",
              "3287           199.5           33.92  ...                0.307396           0.692604\n",
              "3291           172.1           29.26  ...                0.170194           0.829806\n",
              "3301           280.0           47.60  ...                0.544274           0.455726\n",
              "3304           186.1           31.64  ...                0.030425           0.969575\n",
              "3320           140.0           23.80  ...                0.059628           0.940372\n",
              "3322           321.1           54.59  ...                0.064895           0.935105\n",
              "3323           118.4           20.13  ...                0.467705           0.532295\n",
              "\n",
              "[10 rows x 8 columns]"
            ]
          },
          "metadata": {},
          "execution_count": 600
        }
      ]
    },
    {
      "cell_type": "code",
      "source": [
        "probs[probs['Уход'] == 1].sum()"
      ],
      "metadata": {
        "colab": {
          "base_uri": "https://localhost:8080/"
        },
        "id": "Gz5LrpAyXys8",
        "outputId": "559aa901-c291-4da7-9592-a66387d6f506"
      },
      "execution_count": null,
      "outputs": [
        {
          "output_type": "execute_result",
          "data": {
            "text/plain": [
              "Дневные минуты                  99939.500000\n",
              "Дневная оплата                  16989.970000\n",
              "Услуга международных звонков      137.000000\n",
              "Обращений в СЦ                   1077.000000\n",
              "Уход                              483.000000\n",
              "Уход прогноз                      382.000000\n",
              "Вероятность пребывания            179.644443\n",
              "Вероятность ухода                 303.355557\n",
              "dtype: float64"
            ]
          },
          "metadata": {},
          "execution_count": 602
        }
      ]
    },
    {
      "cell_type": "code",
      "source": [
        ""
      ],
      "metadata": {
        "id": "bRrki-lpiiF9"
      },
      "execution_count": null,
      "outputs": []
    }
  ]
}